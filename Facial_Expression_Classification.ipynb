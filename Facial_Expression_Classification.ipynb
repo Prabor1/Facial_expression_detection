{
 "cells": [
  {
   "cell_type": "markdown",
   "metadata": {
    "colab_type": "text",
    "id": "M27qF7CTrBqc"
   },
   "source": [
    "# Part #1: UNDERSTAND THE PROBLEM STATEMENT AND BUSINESS CASE\n"
   ]
  },
  {
   "cell_type": "markdown",
   "metadata": {
    "colab_type": "text",
    "id": "LbFEXZbxyep9"
   },
   "source": [
    "<img src=\"images/1.png\">"
   ]
  },
  {
   "cell_type": "markdown",
   "metadata": {
    "colab_type": "text",
    "id": "gm5XNzpK1otp"
   },
   "source": [
    "# Part #2: IMPORT LIBRARIES AND DATASETS"
   ]
  },
  {
   "cell_type": "code",
   "execution_count": 1,
   "metadata": {
    "colab": {
     "base_uri": "https://localhost:8080/",
     "height": 658
    },
    "colab_type": "code",
    "executionInfo": {
     "elapsed": 6413,
     "status": "ok",
     "timestamp": 1597053816145,
     "user": {
      "displayName": "Prabor Mukherjee",
      "photoUrl": "https://lh3.googleusercontent.com/a-/AOh14GgEjkQ5vy7fT2x3s2YWntD0EF78ID9vVZSBwd-t=s64",
      "userId": "10603689785655987874"
     },
     "user_tz": -330
    },
    "id": "_o0WHns4yep_",
    "outputId": "9f3408ae-94d9-4eed-a3bf-67c9475365a2"
   },
   "outputs": [
    {
     "name": "stdout",
     "output_type": "stream",
     "text": [
      "Requirement already satisfied: tensorflow in /usr/local/lib/python3.6/dist-packages (2.3.0)\n",
      "Requirement already satisfied: google-pasta>=0.1.8 in /usr/local/lib/python3.6/dist-packages (from tensorflow) (0.2.0)\n",
      "Requirement already satisfied: numpy<1.19.0,>=1.16.0 in /usr/local/lib/python3.6/dist-packages (from tensorflow) (1.18.5)\n",
      "Requirement already satisfied: termcolor>=1.1.0 in /usr/local/lib/python3.6/dist-packages (from tensorflow) (1.1.0)\n",
      "Requirement already satisfied: opt-einsum>=2.3.2 in /usr/local/lib/python3.6/dist-packages (from tensorflow) (3.3.0)\n",
      "Requirement already satisfied: h5py<2.11.0,>=2.10.0 in /usr/local/lib/python3.6/dist-packages (from tensorflow) (2.10.0)\n",
      "Requirement already satisfied: tensorflow-estimator<2.4.0,>=2.3.0 in /usr/local/lib/python3.6/dist-packages (from tensorflow) (2.3.0)\n",
      "Requirement already satisfied: wrapt>=1.11.1 in /usr/local/lib/python3.6/dist-packages (from tensorflow) (1.12.1)\n",
      "Requirement already satisfied: absl-py>=0.7.0 in /usr/local/lib/python3.6/dist-packages (from tensorflow) (0.9.0)\n",
      "Requirement already satisfied: gast==0.3.3 in /usr/local/lib/python3.6/dist-packages (from tensorflow) (0.3.3)\n",
      "Requirement already satisfied: protobuf>=3.9.2 in /usr/local/lib/python3.6/dist-packages (from tensorflow) (3.12.4)\n",
      "Requirement already satisfied: grpcio>=1.8.6 in /usr/local/lib/python3.6/dist-packages (from tensorflow) (1.30.0)\n",
      "Requirement already satisfied: keras-preprocessing<1.2,>=1.1.1 in /usr/local/lib/python3.6/dist-packages (from tensorflow) (1.1.2)\n",
      "Requirement already satisfied: astunparse==1.6.3 in /usr/local/lib/python3.6/dist-packages (from tensorflow) (1.6.3)\n",
      "Requirement already satisfied: wheel>=0.26 in /usr/local/lib/python3.6/dist-packages (from tensorflow) (0.34.2)\n",
      "Requirement already satisfied: six>=1.12.0 in /usr/local/lib/python3.6/dist-packages (from tensorflow) (1.15.0)\n",
      "Requirement already satisfied: scipy==1.4.1 in /usr/local/lib/python3.6/dist-packages (from tensorflow) (1.4.1)\n",
      "Requirement already satisfied: tensorboard<3,>=2.3.0 in /usr/local/lib/python3.6/dist-packages (from tensorflow) (2.3.0)\n",
      "Requirement already satisfied: setuptools in /usr/local/lib/python3.6/dist-packages (from protobuf>=3.9.2->tensorflow) (49.2.0)\n",
      "Requirement already satisfied: werkzeug>=0.11.15 in /usr/local/lib/python3.6/dist-packages (from tensorboard<3,>=2.3.0->tensorflow) (1.0.1)\n",
      "Requirement already satisfied: tensorboard-plugin-wit>=1.6.0 in /usr/local/lib/python3.6/dist-packages (from tensorboard<3,>=2.3.0->tensorflow) (1.7.0)\n",
      "Requirement already satisfied: markdown>=2.6.8 in /usr/local/lib/python3.6/dist-packages (from tensorboard<3,>=2.3.0->tensorflow) (3.2.2)\n",
      "Requirement already satisfied: google-auth-oauthlib<0.5,>=0.4.1 in /usr/local/lib/python3.6/dist-packages (from tensorboard<3,>=2.3.0->tensorflow) (0.4.1)\n",
      "Requirement already satisfied: requests<3,>=2.21.0 in /usr/local/lib/python3.6/dist-packages (from tensorboard<3,>=2.3.0->tensorflow) (2.23.0)\n",
      "Requirement already satisfied: google-auth<2,>=1.6.3 in /usr/local/lib/python3.6/dist-packages (from tensorboard<3,>=2.3.0->tensorflow) (1.17.2)\n",
      "Requirement already satisfied: importlib-metadata; python_version < \"3.8\" in /usr/local/lib/python3.6/dist-packages (from markdown>=2.6.8->tensorboard<3,>=2.3.0->tensorflow) (1.7.0)\n",
      "Requirement already satisfied: requests-oauthlib>=0.7.0 in /usr/local/lib/python3.6/dist-packages (from google-auth-oauthlib<0.5,>=0.4.1->tensorboard<3,>=2.3.0->tensorflow) (1.3.0)\n",
      "Requirement already satisfied: certifi>=2017.4.17 in /usr/local/lib/python3.6/dist-packages (from requests<3,>=2.21.0->tensorboard<3,>=2.3.0->tensorflow) (2020.6.20)\n",
      "Requirement already satisfied: chardet<4,>=3.0.2 in /usr/local/lib/python3.6/dist-packages (from requests<3,>=2.21.0->tensorboard<3,>=2.3.0->tensorflow) (3.0.4)\n",
      "Requirement already satisfied: idna<3,>=2.5 in /usr/local/lib/python3.6/dist-packages (from requests<3,>=2.21.0->tensorboard<3,>=2.3.0->tensorflow) (2.10)\n",
      "Requirement already satisfied: urllib3!=1.25.0,!=1.25.1,<1.26,>=1.21.1 in /usr/local/lib/python3.6/dist-packages (from requests<3,>=2.21.0->tensorboard<3,>=2.3.0->tensorflow) (1.24.3)\n",
      "Requirement already satisfied: rsa<5,>=3.1.4; python_version >= \"3\" in /usr/local/lib/python3.6/dist-packages (from google-auth<2,>=1.6.3->tensorboard<3,>=2.3.0->tensorflow) (4.6)\n",
      "Requirement already satisfied: cachetools<5.0,>=2.0.0 in /usr/local/lib/python3.6/dist-packages (from google-auth<2,>=1.6.3->tensorboard<3,>=2.3.0->tensorflow) (4.1.1)\n",
      "Requirement already satisfied: pyasn1-modules>=0.2.1 in /usr/local/lib/python3.6/dist-packages (from google-auth<2,>=1.6.3->tensorboard<3,>=2.3.0->tensorflow) (0.2.8)\n",
      "Requirement already satisfied: zipp>=0.5 in /usr/local/lib/python3.6/dist-packages (from importlib-metadata; python_version < \"3.8\"->markdown>=2.6.8->tensorboard<3,>=2.3.0->tensorflow) (3.1.0)\n",
      "Requirement already satisfied: oauthlib>=3.0.0 in /usr/local/lib/python3.6/dist-packages (from requests-oauthlib>=0.7.0->google-auth-oauthlib<0.5,>=0.4.1->tensorboard<3,>=2.3.0->tensorflow) (3.1.0)\n",
      "Requirement already satisfied: pyasn1>=0.1.3 in /usr/local/lib/python3.6/dist-packages (from rsa<5,>=3.1.4; python_version >= \"3\"->google-auth<2,>=1.6.3->tensorboard<3,>=2.3.0->tensorflow) (0.4.8)\n"
     ]
    }
   ],
   "source": [
    "!pip install tensorflow"
   ]
  },
  {
   "cell_type": "code",
   "execution_count": 2,
   "metadata": {
    "colab": {
     "base_uri": "https://localhost:8080/",
     "height": 35
    },
    "colab_type": "code",
    "executionInfo": {
     "elapsed": 3005,
     "status": "ok",
     "timestamp": 1597053819522,
     "user": {
      "displayName": "Prabor Mukherjee",
      "photoUrl": "https://lh3.googleusercontent.com/a-/AOh14GgEjkQ5vy7fT2x3s2YWntD0EF78ID9vVZSBwd-t=s64",
      "userId": "10603689785655987874"
     },
     "user_tz": -330
    },
    "id": "5s_JZwJcyeqD",
    "outputId": "a93c5555-4270-4bd7-e7e0-a1e526bf411b"
   },
   "outputs": [
    {
     "data": {
      "application/vnd.google.colaboratory.intrinsic+json": {
       "type": "string"
      },
      "text/plain": [
       "'2.3.0'"
      ]
     },
     "execution_count": 2,
     "metadata": {
      "tags": []
     },
     "output_type": "execute_result"
    }
   ],
   "source": [
    "import tensorflow as tf\n",
    "tf.version.VERSION"
   ]
  },
  {
   "cell_type": "code",
   "execution_count": 3,
   "metadata": {
    "colab": {
     "base_uri": "https://localhost:8080/",
     "height": 70
    },
    "colab_type": "code",
    "executionInfo": {
     "elapsed": 1771,
     "status": "ok",
     "timestamp": 1597053823769,
     "user": {
      "displayName": "Prabor Mukherjee",
      "photoUrl": "https://lh3.googleusercontent.com/a-/AOh14GgEjkQ5vy7fT2x3s2YWntD0EF78ID9vVZSBwd-t=s64",
      "userId": "10603689785655987874"
     },
     "user_tz": -330
    },
    "id": "vxW1hFtAirVF",
    "outputId": "c7bfcf4a-66e2-4eb4-dbd4-26839b2fa058"
   },
   "outputs": [
    {
     "name": "stderr",
     "output_type": "stream",
     "text": [
      "/usr/local/lib/python3.6/dist-packages/statsmodels/tools/_testing.py:19: FutureWarning: pandas.util.testing is deprecated. Use the functions in the public API at pandas.testing instead.\n",
      "  import pandas.util.testing as tm\n"
     ]
    }
   ],
   "source": [
    "import cv2\n",
    "import pandas as pd\n",
    "import seaborn as sns\n",
    "import matplotlib.pyplot as plt\n",
    "import numpy as np\n",
    "import os\n",
    "import PIL\n",
    "from tensorflow.keras import layers\n",
    "import tensorflow as tf\n",
    "import pickle\n",
    "from tensorflow.python.keras import *\n",
    "from tensorflow.keras.preprocessing.image import ImageDataGenerator\n",
    "from tensorflow.keras import layers, optimizers\n",
    "from tensorflow.keras.applications import DenseNet121\n",
    "from tensorflow.keras.applications.resnet50 import ResNet50\n",
    "from tensorflow.keras.layers import *\n",
    "from tensorflow.keras.models import Model, load_model\n",
    "from tensorflow.keras.initializers import glorot_uniform\n",
    "from tensorflow.keras.utils import plot_model\n",
    "from tensorflow.keras.callbacks import ReduceLROnPlateau, EarlyStopping, ModelCheckpoint, LearningRateScheduler\n",
    "from IPython.display import display\n",
    "from tensorflow.keras import backend as K\n",
    "#from jupyterthemes import jtplot\n",
    "#jtplot.style(theme='monokai', context='notebook', ticks=True, grid=False) \n",
    "# setting the style of the notebook to be monokai theme  \n",
    "# this line of code is important to ensure that we are able to see the x and y axes clearly\n",
    "# If you don't run this code line, you will notice that the xlabel and ylabel on any plot is black on black and it will be hard to see them. \n"
   ]
  },
  {
   "cell_type": "code",
   "execution_count": null,
   "metadata": {
    "colab": {
     "base_uri": "https://localhost:8080/",
     "height": 121
    },
    "colab_type": "code",
    "executionInfo": {
     "elapsed": 28194,
     "status": "ok",
     "timestamp": 1597053891189,
     "user": {
      "displayName": "Prabor Mukherjee",
      "photoUrl": "https://lh3.googleusercontent.com/a-/AOh14GgEjkQ5vy7fT2x3s2YWntD0EF78ID9vVZSBwd-t=s64",
      "userId": "10603689785655987874"
     },
     "user_tz": -330
    },
    "id": "JjWh3AuYzWFm",
    "outputId": "1edd9cf8-1a27-4cd4-c734-9c6e06c5d526"
   },
   "outputs": [],
   "source": [
    "## Deleted this cell for security reason"
   ]
  },
  {
   "cell_type": "code",
   "execution_count": 5,
   "metadata": {
    "colab": {},
    "colab_type": "code",
    "executionInfo": {
     "elapsed": 5484,
     "status": "ok",
     "timestamp": 1597053902372,
     "user": {
      "displayName": "Prabor Mukherjee",
      "photoUrl": "https://lh3.googleusercontent.com/a-/AOh14GgEjkQ5vy7fT2x3s2YWntD0EF78ID9vVZSBwd-t=s64",
      "userId": "10603689785655987874"
     },
     "user_tz": -330
    },
    "id": "Af4AVoSMyeqM"
   },
   "outputs": [],
   "source": [
    "# read the csv files\n",
    "emotion_df = pd.read_csv('emotion.csv')"
   ]
  },
  {
   "cell_type": "code",
   "execution_count": 6,
   "metadata": {
    "colab": {
     "base_uri": "https://localhost:8080/",
     "height": 402
    },
    "colab_type": "code",
    "executionInfo": {
     "elapsed": 1124,
     "status": "ok",
     "timestamp": 1597053905865,
     "user": {
      "displayName": "Prabor Mukherjee",
      "photoUrl": "https://lh3.googleusercontent.com/a-/AOh14GgEjkQ5vy7fT2x3s2YWntD0EF78ID9vVZSBwd-t=s64",
      "userId": "10603689785655987874"
     },
     "user_tz": -330
    },
    "id": "IXFLW7m3yeqO",
    "outputId": "ff7877d3-6543-44c4-ab60-754bed1f455f"
   },
   "outputs": [
    {
     "data": {
      "text/html": [
       "<div>\n",
       "<style scoped>\n",
       "    .dataframe tbody tr th:only-of-type {\n",
       "        vertical-align: middle;\n",
       "    }\n",
       "\n",
       "    .dataframe tbody tr th {\n",
       "        vertical-align: top;\n",
       "    }\n",
       "\n",
       "    .dataframe thead th {\n",
       "        text-align: right;\n",
       "    }\n",
       "</style>\n",
       "<table border=\"1\" class=\"dataframe\">\n",
       "  <thead>\n",
       "    <tr style=\"text-align: right;\">\n",
       "      <th></th>\n",
       "      <th>emotion</th>\n",
       "      <th>pixels</th>\n",
       "    </tr>\n",
       "  </thead>\n",
       "  <tbody>\n",
       "    <tr>\n",
       "      <th>0</th>\n",
       "      <td>0</td>\n",
       "      <td>70 80 82 72 58 58 60 63 54 58 60 48 89 115 121...</td>\n",
       "    </tr>\n",
       "    <tr>\n",
       "      <th>1</th>\n",
       "      <td>0</td>\n",
       "      <td>151 150 147 155 148 133 111 140 170 174 182 15...</td>\n",
       "    </tr>\n",
       "    <tr>\n",
       "      <th>2</th>\n",
       "      <td>2</td>\n",
       "      <td>24 32 36 30 32 23 19 20 30 41 21 22 32 34 21 1...</td>\n",
       "    </tr>\n",
       "    <tr>\n",
       "      <th>3</th>\n",
       "      <td>2</td>\n",
       "      <td>20 17 19 21 25 38 42 42 46 54 56 62 63 66 82 1...</td>\n",
       "    </tr>\n",
       "    <tr>\n",
       "      <th>4</th>\n",
       "      <td>3</td>\n",
       "      <td>77 78 79 79 78 75 60 55 47 48 58 73 77 79 57 5...</td>\n",
       "    </tr>\n",
       "    <tr>\n",
       "      <th>...</th>\n",
       "      <td>...</td>\n",
       "      <td>...</td>\n",
       "    </tr>\n",
       "    <tr>\n",
       "      <th>24563</th>\n",
       "      <td>3</td>\n",
       "      <td>0 39 81 80 104 97 51 64 68 46 41 67 53 68 70 5...</td>\n",
       "    </tr>\n",
       "    <tr>\n",
       "      <th>24564</th>\n",
       "      <td>0</td>\n",
       "      <td>181 177 176 156 178 144 136 132 122 107 131 16...</td>\n",
       "    </tr>\n",
       "    <tr>\n",
       "      <th>24565</th>\n",
       "      <td>3</td>\n",
       "      <td>178 174 172 173 181 188 191 194 196 199 200 20...</td>\n",
       "    </tr>\n",
       "    <tr>\n",
       "      <th>24566</th>\n",
       "      <td>0</td>\n",
       "      <td>17 17 16 23 28 22 19 17 25 26 20 24 31 19 27 9...</td>\n",
       "    </tr>\n",
       "    <tr>\n",
       "      <th>24567</th>\n",
       "      <td>3</td>\n",
       "      <td>30 28 28 29 31 30 42 68 79 81 77 67 67 71 63 6...</td>\n",
       "    </tr>\n",
       "  </tbody>\n",
       "</table>\n",
       "<p>24568 rows × 2 columns</p>\n",
       "</div>"
      ],
      "text/plain": [
       "       emotion                                             pixels\n",
       "0            0  70 80 82 72 58 58 60 63 54 58 60 48 89 115 121...\n",
       "1            0  151 150 147 155 148 133 111 140 170 174 182 15...\n",
       "2            2  24 32 36 30 32 23 19 20 30 41 21 22 32 34 21 1...\n",
       "3            2  20 17 19 21 25 38 42 42 46 54 56 62 63 66 82 1...\n",
       "4            3  77 78 79 79 78 75 60 55 47 48 58 73 77 79 57 5...\n",
       "...        ...                                                ...\n",
       "24563        3  0 39 81 80 104 97 51 64 68 46 41 67 53 68 70 5...\n",
       "24564        0  181 177 176 156 178 144 136 132 122 107 131 16...\n",
       "24565        3  178 174 172 173 181 188 191 194 196 199 200 20...\n",
       "24566        0  17 17 16 23 28 22 19 17 25 26 20 24 31 19 27 9...\n",
       "24567        3  30 28 28 29 31 30 42 68 79 81 77 67 67 71 63 6...\n",
       "\n",
       "[24568 rows x 2 columns]"
      ]
     },
     "execution_count": 6,
     "metadata": {
      "tags": []
     },
     "output_type": "execute_result"
    }
   ],
   "source": [
    "emotion_df"
   ]
  },
  {
   "cell_type": "code",
   "execution_count": 7,
   "metadata": {
    "colab": {
     "base_uri": "https://localhost:8080/",
     "height": 34
    },
    "colab_type": "code",
    "executionInfo": {
     "elapsed": 1221,
     "status": "ok",
     "timestamp": 1597053918650,
     "user": {
      "displayName": "Prabor Mukherjee",
      "photoUrl": "https://lh3.googleusercontent.com/a-/AOh14GgEjkQ5vy7fT2x3s2YWntD0EF78ID9vVZSBwd-t=s64",
      "userId": "10603689785655987874"
     },
     "user_tz": -330
    },
    "id": "8QzlJfnvyeqR",
    "outputId": "70695535-43cd-4495-adbe-bc2d4b5f1db5"
   },
   "outputs": [
    {
     "data": {
      "text/plain": [
       "2"
      ]
     },
     "execution_count": 7,
     "metadata": {
      "tags": []
     },
     "output_type": "execute_result"
    }
   ],
   "source": [
    "emotion_df['emotion'][2]"
   ]
  },
  {
   "cell_type": "code",
   "execution_count": 8,
   "metadata": {
    "colab": {},
    "colab_type": "code",
    "executionInfo": {
     "elapsed": 2041,
     "status": "ok",
     "timestamp": 1597053923628,
     "user": {
      "displayName": "Prabor Mukherjee",
      "photoUrl": "https://lh3.googleusercontent.com/a-/AOh14GgEjkQ5vy7fT2x3s2YWntD0EF78ID9vVZSBwd-t=s64",
      "userId": "10603689785655987874"
     },
     "user_tz": -330
    },
    "id": "BSxuY42oyeqT"
   },
   "outputs": [],
   "source": [
    "emotion_df['pixels'] = emotion_df[' pixels'] # String format"
   ]
  },
  {
   "cell_type": "code",
   "execution_count": 9,
   "metadata": {
    "colab": {
     "base_uri": "https://localhost:8080/",
     "height": 120
    },
    "colab_type": "code",
    "executionInfo": {
     "elapsed": 1006,
     "status": "ok",
     "timestamp": 1597053925740,
     "user": {
      "displayName": "Prabor Mukherjee",
      "photoUrl": "https://lh3.googleusercontent.com/a-/AOh14GgEjkQ5vy7fT2x3s2YWntD0EF78ID9vVZSBwd-t=s64",
      "userId": "10603689785655987874"
     },
     "user_tz": -330
    },
    "id": "vpTO3jMdyeqW",
    "outputId": "74dfea24-3bd3-41eb-f0f5-0237176d2c8f",
    "scrolled": true
   },
   "outputs": [
    {
     "data": {
      "application/vnd.google.colaboratory.intrinsic+json": {
       "type": "string"
      },
      "text/plain": [
       "'24 32 36 30 32 23 19 20 30 41 21 22 32 34 21 19 43 52 13 26 40 59 65 12 20 63 99 98 98 111 75 62 41 73 118 140 192 186 187 188 190 190 187 182 176 173 172 173 25 34 29 35 29 26 20 23 19 31 22 21 20 31 26 17 34 75 37 18 38 80 85 25 38 26 34 97 94 76 86 95 70 39 98 129 185 188 188 189 190 190 188 182 176 173 172 173 26 29 25 35 25 30 20 21 16 28 34 26 15 17 19 22 29 62 64 47 45 76 76 78 65 82 12 14 56 56 72 74 66 65 86 129 172 190 187 189 190 190 187 182 177 172 172 174 26 33 32 31 25 33 26 21 16 16 37 27 14 15 12 17 31 38 40 58 73 59 35 82 68 72 43 22 33 52 51 66 71 57 71 121 160 191 188 189 190 190 187 184 178 173 173 174 29 40 29 29 32 32 28 26 19 13 23 34 17 18 14 15 26 25 21 40 82 44 29 34 36 32 36 59 55 38 46 64 71 62 60 107 137 191 189 190 190 190 188 184 178 175 173 175 33 39 25 33 37 33 25 30 20 18 18 23 20 22 20 17 33 20 18 25 37 31 22 29 28 24 29 38 67 38 35 75 68 66 58 89 110 179 191 189 189 190 187 184 179 175 173 174 32 41 32 31 39 33 26 34 27 23 28 30 21 24 29 22 26 23 21 22 33 28 28 26 28 23 27 21 61 53 24 72 78 64 54 84 94 155 195 189 191 190 188 184 179 174 172 173 28 46 40 29 42 34 31 39 37 30 33 33 28 23 30 31 24 19 17 18 27 25 27 23 25 24 23 13 40 69 29 45 74 74 59 88 88 145 196 188 191 191 188 183 178 174 172 174 27 44 42 35 42 34 39 40 41 37 33 33 34 31 32 35 32 19 19 18 16 17 22 21 23 25 22 14 30 74 36 32 62 75 59 89 94 139 194 188 191 191 187 184 179 174 173 174 28 38 38 42 41 36 51 44 37 40 35 33 29 38 38 43 39 28 23 19 22 24 26 27 26 29 21 17 37 75 31 32 49 55 57 102 108 138 193 189 191 192 189 184 180 176 174 174 29 33 30 34 41 39 46 45 37 38 38 34 28 39 41 44 36 37 28 29 32 34 35 34 33 33 27 23 39 72 28 22 44 70 82 127 100 137 194 189 190 189 188 185 181 176 174 176 29 32 28 24 40 35 35 30 30 31 38 29 31 37 30 34 30 41 52 57 58 56 53 45 50 40 46 24 30 60 27 64 120 130 141 139 85 149 194 187 189 188 187 185 181 177 175 176 34 24 33 27 26 27 27 21 24 28 34 27 33 30 23 26 27 52 91 125 125 119 100 89 88 84 66 24 48 57 89 137 155 159 175 155 105 173 193 189 189 189 187 185 181 177 175 176 33 74 146 130 75 24 23 20 20 23 26 24 27 24 24 31 60 118 156 158 156 155 141 135 131 108 42 68 73 97 140 146 164 178 186 191 156 185 189 189 188 188 186 184 180 177 175 176 45 121 121 162 155 61 17 22 21 23 22 21 21 24 29 62 127 165 170 163 166 159 144 128 103 53 67 99 90 129 148 153 175 195 201 180 174 188 187 188 188 187 186 184 180 177 176 176 64 105 116 165 150 143 45 17 19 23 23 22 23 25 52 122 166 171 172 174 169 160 152 128 91 97 124 119 123 144 151 157 179 177 143 154 184 187 188 189 189 187 186 183 180 177 176 176 125 93 150 159 133 143 106 33 49 27 24 25 23 44 120 166 170 165 159 142 132 120 117 119 129 131 128 132 135 142 146 158 144 94 131 185 185 186 187 188 189 187 185 183 179 176 175 176 201 82 161 117 85 143 158 109 119 67 21 39 86 132 168 173 171 167 161 148 134 123 102 89 100 102 97 108 124 131 152 118 75 138 131 170 185 186 187 188 189 187 185 183 178 175 175 175 225 80 130 122 84 146 145 162 159 129 31 94 168 172 170 170 167 162 143 117 112 77 50 47 65 100 127 135 129 137 157 56 73 168 181 180 185 187 188 189 189 187 184 181 178 174 173 175 217 80 78 165 127 109 119 169 173 163 108 138 172 168 172 171 165 158 140 101 65 43 44 56 38 95 141 160 146 166 142 62 116 171 198 180 185 186 188 188 187 186 183 181 177 174 173 175 194 64 36 127 178 168 113 132 172 166 153 158 170 170 171 173 171 168 165 161 139 96 72 69 53 111 163 170 155 163 187 143 162 205 204 180 186 187 188 188 187 185 184 181 177 174 173 175 144 55 54 51 146 177 158 154 173 169 160 165 168 161 145 136 164 172 167 153 137 132 117 90 85 134 168 176 162 160 212 197 188 208 203 182 188 187 189 189 187 186 184 181 177 174 173 175 127 79 91 61 47 157 160 166 161 164 160 154 148 153 146 105 131 154 146 145 128 108 118 104 114 127 156 166 156 163 207 190 185 207 194 181 183 185 180 180 184 181 183 180 176 174 172 174 136 102 122 138 60 73 130 139 138 153 137 142 122 135 140 114 89 144 117 108 116 110 110 103 97 107 142 145 139 151 202 157 159 189 167 175 162 172 158 161 159 171 186 181 177 173 173 174 153 136 152 203 144 60 110 128 142 143 137 141 130 125 138 122 73 141 138 121 82 131 108 94 95 113 137 150 150 151 201 147 145 185 172 163 160 161 158 169 164 179 184 180 176 172 172 173 163 167 189 211 200 74 106 158 143 153 158 145 140 145 158 133 70 135 142 145 80 114 128 104 97 125 154 155 169 165 193 196 154 204 194 172 186 179 180 181 180 183 182 180 175 172 171 174 182 200 209 210 215 126 96 166 162 163 165 166 150 146 182 165 78 134 170 168 75 88 125 109 95 138 161 168 177 165 172 200 182 209 195 187 188 190 189 188 187 185 182 179 175 171 171 172 204 206 211 213 215 177 80 152 158 159 160 170 162 141 178 169 92 130 182 174 84 65 109 109 89 137 149 151 153 137 143 178 190 209 185 182 187 186 185 185 185 183 181 177 173 170 170 171 206 209 211 213 213 202 117 123 161 153 154 172 170 143 173 169 111 131 182 177 106 51 91 109 112 109 111 132 140 150 198 209 203 215 207 190 182 184 185 185 184 183 182 178 174 170 169 170 206 209 211 214 213 208 169 100 150 147 145 166 172 143 171 171 124 135 178 174 128 45 76 109 127 136 144 164 182 190 202 215 218 178 200 226 211 192 181 184 184 183 182 179 174 169 167 168 210 209 210 214 214 210 196 112 118 149 138 159 171 138 159 164 123 139 176 169 149 45 64 117 144 155 172 199 200 201 199 226 193 157 165 189 217 231 208 181 179 180 180 177 172 169 166 167 211 210 210 213 214 212 205 156 81 137 136 144 157 136 136 149 135 142 176 161 181 80 35 84 118 147 178 186 188 146 129 194 141 149 124 105 145 192 232 211 178 180 181 178 172 169 165 166 209 212 210 211 214 213 207 191 98 87 135 128 143 151 135 151 150 137 158 142 159 146 50 38 76 160 166 160 156 78 135 129 116 124 60 70 97 146 206 225 180 177 178 177 172 168 164 165 197 211 211 210 211 213 209 200 155 60 95 117 126 155 147 136 150 141 143 147 132 130 103 110 166 180 161 159 123 83 136 82 122 50 33 80 131 170 198 213 179 177 178 177 172 168 164 165 181 191 217 209 209 211 208 202 184 104 51 92 100 126 151 144 157 155 152 157 133 107 111 154 176 171 154 160 106 55 50 78 104 25 41 94 145 186 208 201 178 179 179 178 173 167 163 163 180 159 205 211 208 209 207 201 187 151 64 55 85 94 139 156 164 157 160 167 151 129 138 170 172 159 153 164 74 35 52 90 57 22 82 154 172 181 209 192 176 178 177 177 173 167 162 162 153 160 171 209 207 207 206 200 190 167 109 47 65 78 115 158 166 162 159 168 159 146 162 172 167 141 165 149 19 30 41 54 35 62 146 170 178 191 209 184 176 178 177 178 174 167 161 161 160 163 141 183 208 204 204 199 188 173 140 74 54 73 94 156 170 167 162 166 158 155 169 169 151 138 176 161 20 28 48 52 46 124 167 179 184 201 205 179 178 177 177 176 173 165 160 158 157 169 141 140 198 202 201 200 187 173 151 111 68 79 92 148 170 167 166 168 163 162 170 161 151 157 179 187 36 34 42 46 98 141 163 179 182 201 196 175 177 176 175 175 172 165 159 156 118 164 162 115 164 202 198 201 191 177 158 133 99 101 126 154 163 168 167 169 163 164 166 162 165 162 171 202 67 43 51 99 139 149 161 166 174 195 187 176 177 176 176 175 171 165 158 153 101 133 171 130 118 183 196 199 195 184 166 150 127 131 162 168 162 166 166 167 163 165 164 164 165 159 167 204 96 54 94 128 138 156 166 165 172 191 179 176 176 176 174 173 170 164 157 151 118 103 147 156 105 145 192 196 195 188 178 171 145 151 181 171 164 167 170 168 164 168 167 164 162 156 163 202 122 76 99 103 129 151 156 166 183 194 173 174 173 173 173 173 170 164 156 152 135 106 109 151 129 112 174 189 192 190 188 181 166 145 175 171 148 166 169 169 167 166 167 164 162 158 162 198 142 89 95 95 119 141 148 163 197 194 170 172 172 172 172 171 169 165 158 152 157 131 95 119 143 109 140 181 184 188 187 184 176 155 144 158 128 158 170 169 169 167 167 165 165 161 160 193 173 98 101 103 116 132 138 164 206 190 164 168 167 168 169 168 166 163 157 152 184 160 119 94 125 127 111 163 174 182 184 183 180 168 147 149 119 146 171 168 169 168 169 169 168 161 155 183 216 120 102 101 110 128 130 150 203 183 156 163 163 163 164 165 163 161 157 151 159 185 157 107 99 128 114 132 167 173 179 179 178 171 159 158 156 146 169 169 169 170 169 167 169 167 164 183 235 162 105 105 105 126 137 149 198 199 150 156 157 157 159 160 160 157 156 153 136 157 187 152 104 109 124 115 147 163 170 172 173 170 163 160 172 177 168 170 168 170 168 170 173 177 188 198 232 202 116 108 108 124 138 147 185 219 157 140 144 144 146 147 151 152 152 150 145 130 161 184 141 105 118 119 124 150 161 167 169 167 162 164 169 181 172 168 169 170 174 179 180 182 196 208 226 230 140 113 114 125 135 141 172 214 174 126 132 132 133 136 139 142 143 142'"
      ]
     },
     "execution_count": 9,
     "metadata": {
      "tags": []
     },
     "output_type": "execute_result"
    }
   ],
   "source": [
    "emotion_df['pixels'][2] # String format"
   ]
  },
  {
   "cell_type": "code",
   "execution_count": 10,
   "metadata": {
    "colab": {},
    "colab_type": "code",
    "executionInfo": {
     "elapsed": 1376,
     "status": "ok",
     "timestamp": 1597053932882,
     "user": {
      "displayName": "Prabor Mukherjee",
      "photoUrl": "https://lh3.googleusercontent.com/a-/AOh14GgEjkQ5vy7fT2x3s2YWntD0EF78ID9vVZSBwd-t=s64",
      "userId": "10603689785655987874"
     },
     "user_tz": -330
    },
    "id": "hg8s5Dp5yeqY"
   },
   "outputs": [],
   "source": [
    "# function to convert pixel values in string format to array format\n",
    "def string2array(x):\n",
    "  return np.array(x.split(' ')).reshape(48, 48, 1).astype('float32')"
   ]
  },
  {
   "cell_type": "code",
   "execution_count": 11,
   "metadata": {
    "colab": {},
    "colab_type": "code",
    "executionInfo": {
     "elapsed": 27929,
     "status": "ok",
     "timestamp": 1597053963096,
     "user": {
      "displayName": "Prabor Mukherjee",
      "photoUrl": "https://lh3.googleusercontent.com/a-/AOh14GgEjkQ5vy7fT2x3s2YWntD0EF78ID9vVZSBwd-t=s64",
      "userId": "10603689785655987874"
     },
     "user_tz": -330
    },
    "id": "XbhjzG9Byeqa"
   },
   "outputs": [],
   "source": [
    "emotion_df['pixels'] = emotion_df['pixels'].apply(lambda x: string2array(x))"
   ]
  },
  {
   "cell_type": "code",
   "execution_count": 12,
   "metadata": {
    "colab": {
     "base_uri": "https://localhost:8080/",
     "height": 34
    },
    "colab_type": "code",
    "executionInfo": {
     "elapsed": 23314,
     "status": "ok",
     "timestamp": 1597053963115,
     "user": {
      "displayName": "Prabor Mukherjee",
      "photoUrl": "https://lh3.googleusercontent.com/a-/AOh14GgEjkQ5vy7fT2x3s2YWntD0EF78ID9vVZSBwd-t=s64",
      "userId": "10603689785655987874"
     },
     "user_tz": -330
    },
    "id": "wWOpICNPyeqc",
    "outputId": "fb48706a-f995-4d82-a32a-fc4ed4ba71ab"
   },
   "outputs": [
    {
     "data": {
      "text/plain": [
       "(48, 48, 1)"
      ]
     },
     "execution_count": 12,
     "metadata": {
      "tags": []
     },
     "output_type": "execute_result"
    }
   ],
   "source": [
    "emotion_df['pixels'][2].shape"
   ]
  },
  {
   "cell_type": "code",
   "execution_count": 13,
   "metadata": {
    "colab": {
     "base_uri": "https://localhost:8080/",
     "height": 840
    },
    "colab_type": "code",
    "executionInfo": {
     "elapsed": 20836,
     "status": "ok",
     "timestamp": 1597053963116,
     "user": {
      "displayName": "Prabor Mukherjee",
      "photoUrl": "https://lh3.googleusercontent.com/a-/AOh14GgEjkQ5vy7fT2x3s2YWntD0EF78ID9vVZSBwd-t=s64",
      "userId": "10603689785655987874"
     },
     "user_tz": -330
    },
    "id": "lZR_4FqTyeqe",
    "outputId": "1f05baee-8d04-4c4a-c2a2-a0f62cbd0fb4"
   },
   "outputs": [
    {
     "data": {
      "text/plain": [
       "array([[[ 24.],\n",
       "        [ 32.],\n",
       "        [ 36.],\n",
       "        ...,\n",
       "        [173.],\n",
       "        [172.],\n",
       "        [173.]],\n",
       "\n",
       "       [[ 25.],\n",
       "        [ 34.],\n",
       "        [ 29.],\n",
       "        ...,\n",
       "        [173.],\n",
       "        [172.],\n",
       "        [173.]],\n",
       "\n",
       "       [[ 26.],\n",
       "        [ 29.],\n",
       "        [ 25.],\n",
       "        ...,\n",
       "        [172.],\n",
       "        [172.],\n",
       "        [174.]],\n",
       "\n",
       "       ...,\n",
       "\n",
       "       [[159.],\n",
       "        [185.],\n",
       "        [157.],\n",
       "        ...,\n",
       "        [157.],\n",
       "        [156.],\n",
       "        [153.]],\n",
       "\n",
       "       [[136.],\n",
       "        [157.],\n",
       "        [187.],\n",
       "        ...,\n",
       "        [152.],\n",
       "        [152.],\n",
       "        [150.]],\n",
       "\n",
       "       [[145.],\n",
       "        [130.],\n",
       "        [161.],\n",
       "        ...,\n",
       "        [142.],\n",
       "        [143.],\n",
       "        [142.]]], dtype=float32)"
      ]
     },
     "execution_count": 13,
     "metadata": {
      "tags": []
     },
     "output_type": "execute_result"
    }
   ],
   "source": [
    "emotion_df['pixels'][2]"
   ]
  },
  {
   "cell_type": "code",
   "execution_count": 14,
   "metadata": {
    "colab": {
     "base_uri": "https://localhost:8080/",
     "height": 84
    },
    "colab_type": "code",
    "executionInfo": {
     "elapsed": 1294,
     "status": "ok",
     "timestamp": 1597053973543,
     "user": {
      "displayName": "Prabor Mukherjee",
      "photoUrl": "https://lh3.googleusercontent.com/a-/AOh14GgEjkQ5vy7fT2x3s2YWntD0EF78ID9vVZSBwd-t=s64",
      "userId": "10603689785655987874"
     },
     "user_tz": -330
    },
    "id": "EnDrv_blyeqh",
    "outputId": "6dc71416-1060-4c6a-edfe-9a9aba82a6d4"
   },
   "outputs": [
    {
     "data": {
      "text/plain": [
       "emotion    0\n",
       " pixels    0\n",
       "pixels     0\n",
       "dtype: int64"
      ]
     },
     "execution_count": 14,
     "metadata": {
      "tags": []
     },
     "output_type": "execute_result"
    }
   ],
   "source": [
    "# checking for the presence of null values in the data frame\n",
    "emotion_df.isnull().sum()"
   ]
  },
  {
   "cell_type": "code",
   "execution_count": 15,
   "metadata": {
    "colab": {},
    "colab_type": "code",
    "executionInfo": {
     "elapsed": 1303,
     "status": "ok",
     "timestamp": 1597053978161,
     "user": {
      "displayName": "Prabor Mukherjee",
      "photoUrl": "https://lh3.googleusercontent.com/a-/AOh14GgEjkQ5vy7fT2x3s2YWntD0EF78ID9vVZSBwd-t=s64",
      "userId": "10603689785655987874"
     },
     "user_tz": -330
    },
    "id": "kR9dE_y0yeqj"
   },
   "outputs": [],
   "source": [
    "label_to_text = {0:'anger', 1:'disgust', 2:'sad', 3:'happiness', 4: 'surprise'}"
   ]
  },
  {
   "cell_type": "code",
   "execution_count": 16,
   "metadata": {
    "colab": {
     "base_uri": "https://localhost:8080/",
     "height": 284
    },
    "colab_type": "code",
    "executionInfo": {
     "elapsed": 1367,
     "status": "ok",
     "timestamp": 1597053983463,
     "user": {
      "displayName": "Prabor Mukherjee",
      "photoUrl": "https://lh3.googleusercontent.com/a-/AOh14GgEjkQ5vy7fT2x3s2YWntD0EF78ID9vVZSBwd-t=s64",
      "userId": "10603689785655987874"
     },
     "user_tz": -330
    },
    "id": "QqSOVN1gyeqm",
    "outputId": "31c36759-0062-4a0f-ee15-02a6211c61e7"
   },
   "outputs": [
    {
     "data": {
      "text/plain": [
       "<matplotlib.image.AxesImage at 0x7f93032186d8>"
      ]
     },
     "execution_count": 16,
     "metadata": {
      "tags": []
     },
     "output_type": "execute_result"
    },
    {
     "data": {
      "image/png": "[encoded data removed]",
      "text/plain": [
       "<Figure size 432x288 with 1 Axes>"
      ]
     },
     "metadata": {
      "needs_background": "light",
      "tags": []
     },
     "output_type": "display_data"
    }
   ],
   "source": [
    "plt.imshow(emotion_df['pixels'][0].squeeze(), cmap = 'gray')"
   ]
  },
  {
   "cell_type": "markdown",
   "metadata": {
    "colab_type": "text",
    "id": "dRmSWi_nyeqo"
   },
   "source": [
    "# Part #3: PERFORM DATA VISUALIZATION"
   ]
  },
  {
   "cell_type": "code",
   "execution_count": 17,
   "metadata": {
    "colab": {
     "base_uri": "https://localhost:8080/",
     "height": 1000
    },
    "colab_type": "code",
    "executionInfo": {
     "elapsed": 2628,
     "status": "ok",
     "timestamp": 1597053991500,
     "user": {
      "displayName": "Prabor Mukherjee",
      "photoUrl": "https://lh3.googleusercontent.com/a-/AOh14GgEjkQ5vy7fT2x3s2YWntD0EF78ID9vVZSBwd-t=s64",
      "userId": "10603689785655987874"
     },
     "user_tz": -330
    },
    "id": "E9B3ZKatyeqo",
    "outputId": "a6c6ebfe-b459-4214-9dc9-ebf41af9480b"
   },
   "outputs": [
    {
     "data": {
      "image/png": "[encoded data removed]",
      "text/plain": [
       "<Figure size 432x288 with 1 Axes>"
      ]
     },
     "metadata": {
      "needs_background": "light",
      "tags": []
     },
     "output_type": "display_data"
    },
    {
     "data": {
      "image/png": "[encoded data removed]",
      "text/plain": [
       "<Figure size 432x288 with 1 Axes>"
      ]
     },
     "metadata": {
      "needs_background": "light",
      "tags": []
     },
     "output_type": "display_data"
    },
    {
     "data": {
      "image/png": "[encoded data removed]",
      "text/plain": [
       "<Figure size 432x288 with 1 Axes>"
      ]
     },
     "metadata": {
      "needs_background": "light",
      "tags": []
     },
     "output_type": "display_data"
    },
    {
     "data": {
      "image/png": "[encoded data removed]",
      "text/plain": [
       "<Figure size 432x288 with 1 Axes>"
      ]
     },
     "metadata": {
      "needs_background": "light",
      "tags": []
     },
     "output_type": "display_data"
    },
    {
     "data": {
      "image/png": "[encoded data removed]",
      "text/plain": [
       "<Figure size 432x288 with 1 Axes>"
      ]
     },
     "metadata": {
      "needs_background": "light",
      "tags": []
     },
     "output_type": "display_data"
    }
   ],
   "source": [
    "emotions = [0,1,2,3,4]\n",
    "\n",
    "for i in emotions:\n",
    "  data = emotion_df[emotion_df['emotion'] == i][:1]\n",
    "  img = data['pixels'].item()\n",
    "  img = img.reshape(48,48)\n",
    "  plt.figure()\n",
    "  plt.title(label_to_text[i])\n",
    "  plt.imshow(img, cmap= 'gray')"
   ]
  },
  {
   "cell_type": "code",
   "execution_count": 18,
   "metadata": {
    "colab": {
     "base_uri": "https://localhost:8080/",
     "height": 624
    },
    "colab_type": "code",
    "executionInfo": {
     "elapsed": 1282,
     "status": "ok",
     "timestamp": 1597054001514,
     "user": {
      "displayName": "Prabor Mukherjee",
      "photoUrl": "https://lh3.googleusercontent.com/a-/AOh14GgEjkQ5vy7fT2x3s2YWntD0EF78ID9vVZSBwd-t=s64",
      "userId": "10603689785655987874"
     },
     "user_tz": -330
    },
    "id": "sB7XDAKoyeqs",
    "outputId": "446a418c-b0a5-4efb-a853-f97470ecee6c"
   },
   "outputs": [
    {
     "data": {
      "text/plain": [
       "Text(0.5, 1.0, 'Number of images per emotion')"
      ]
     },
     "execution_count": 18,
     "metadata": {
      "tags": []
     },
     "output_type": "execute_result"
    },
    {
     "data": {
      "image/png": "[encoded data removed]",
      "text/plain": [
       "<Figure size 720x720 with 1 Axes>"
      ]
     },
     "metadata": {
      "needs_background": "light",
      "tags": []
     },
     "output_type": "display_data"
    }
   ],
   "source": [
    "plt.figure(figsize = (10, 10))\n",
    "sns.barplot(x = emotion_df.emotion.value_counts().index, y = emotion_df.emotion.value_counts() )\n",
    "plt.title('Number of images per emotion')"
   ]
  },
  {
   "cell_type": "markdown",
   "metadata": {
    "colab_type": "text",
    "id": "kCzUNZvEyequ"
   },
   "source": [
    "# Part #4: PERFORM DATA AUGMENTATION"
   ]
  },
  {
   "cell_type": "code",
   "execution_count": 19,
   "metadata": {
    "colab": {
     "base_uri": "https://localhost:8080/",
     "height": 840
    },
    "colab_type": "code",
    "executionInfo": {
     "elapsed": 1202,
     "status": "ok",
     "timestamp": 1597054005886,
     "user": {
      "displayName": "Prabor Mukherjee",
      "photoUrl": "https://lh3.googleusercontent.com/a-/AOh14GgEjkQ5vy7fT2x3s2YWntD0EF78ID9vVZSBwd-t=s64",
      "userId": "10603689785655987874"
     },
     "user_tz": -330
    },
    "id": "ENwRbZ72yequ",
    "outputId": "8efe6ab9-4588-4187-f65d-2539eea1bb98"
   },
   "outputs": [
    {
     "data": {
      "text/plain": [
       "array([[[ 70.],\n",
       "        [ 80.],\n",
       "        [ 82.],\n",
       "        ...,\n",
       "        [ 52.],\n",
       "        [ 43.],\n",
       "        [ 41.]],\n",
       "\n",
       "       [[ 65.],\n",
       "        [ 61.],\n",
       "        [ 58.],\n",
       "        ...,\n",
       "        [ 56.],\n",
       "        [ 52.],\n",
       "        [ 44.]],\n",
       "\n",
       "       [[ 50.],\n",
       "        [ 43.],\n",
       "        [ 54.],\n",
       "        ...,\n",
       "        [ 49.],\n",
       "        [ 56.],\n",
       "        [ 47.]],\n",
       "\n",
       "       ...,\n",
       "\n",
       "       [[ 91.],\n",
       "        [ 65.],\n",
       "        [ 42.],\n",
       "        ...,\n",
       "        [ 72.],\n",
       "        [ 56.],\n",
       "        [ 43.]],\n",
       "\n",
       "       [[ 77.],\n",
       "        [ 82.],\n",
       "        [ 79.],\n",
       "        ...,\n",
       "        [105.],\n",
       "        [ 70.],\n",
       "        [ 46.]],\n",
       "\n",
       "       [[ 77.],\n",
       "        [ 72.],\n",
       "        [ 84.],\n",
       "        ...,\n",
       "        [106.],\n",
       "        [109.],\n",
       "        [ 82.]]], dtype=float32)"
      ]
     },
     "execution_count": 19,
     "metadata": {
      "tags": []
     },
     "output_type": "execute_result"
    }
   ],
   "source": [
    "emotion_df['pixels'][0]"
   ]
  },
  {
   "cell_type": "code",
   "execution_count": 20,
   "metadata": {
    "colab": {
     "base_uri": "https://localhost:8080/",
     "height": 34
    },
    "colab_type": "code",
    "executionInfo": {
     "elapsed": 1365,
     "status": "ok",
     "timestamp": 1597054010909,
     "user": {
      "displayName": "Prabor Mukherjee",
      "photoUrl": "https://lh3.googleusercontent.com/a-/AOh14GgEjkQ5vy7fT2x3s2YWntD0EF78ID9vVZSBwd-t=s64",
      "userId": "10603689785655987874"
     },
     "user_tz": -330
    },
    "id": "JWRE4Oxtyeqw",
    "outputId": "ae5bda74-f946-4cd1-9958-fc3fdde09c69"
   },
   "outputs": [
    {
     "data": {
      "text/plain": [
       "2"
      ]
     },
     "execution_count": 20,
     "metadata": {
      "tags": []
     },
     "output_type": "execute_result"
    }
   ],
   "source": [
    "emotion_df['emotion'][10]"
   ]
  },
  {
   "cell_type": "code",
   "execution_count": 21,
   "metadata": {
    "colab": {
     "base_uri": "https://localhost:8080/",
     "height": 34
    },
    "colab_type": "code",
    "executionInfo": {
     "elapsed": 1272,
     "status": "ok",
     "timestamp": 1597054013160,
     "user": {
      "displayName": "Prabor Mukherjee",
      "photoUrl": "https://lh3.googleusercontent.com/a-/AOh14GgEjkQ5vy7fT2x3s2YWntD0EF78ID9vVZSBwd-t=s64",
      "userId": "10603689785655987874"
     },
     "user_tz": -330
    },
    "id": "tcI5EKzMyeqy",
    "outputId": "a5b07349-5637-4b25-f80f-937335cd9fd7"
   },
   "outputs": [
    {
     "data": {
      "text/plain": [
       "(24568,)"
      ]
     },
     "execution_count": 21,
     "metadata": {
      "tags": []
     },
     "output_type": "execute_result"
    }
   ],
   "source": [
    "X = emotion_df['pixels']\n",
    "X.shape"
   ]
  },
  {
   "cell_type": "code",
   "execution_count": 22,
   "metadata": {
    "colab": {
     "base_uri": "https://localhost:8080/",
     "height": 34
    },
    "colab_type": "code",
    "executionInfo": {
     "elapsed": 1225,
     "status": "ok",
     "timestamp": 1597054017683,
     "user": {
      "displayName": "Prabor Mukherjee",
      "photoUrl": "https://lh3.googleusercontent.com/a-/AOh14GgEjkQ5vy7fT2x3s2YWntD0EF78ID9vVZSBwd-t=s64",
      "userId": "10603689785655987874"
     },
     "user_tz": -330
    },
    "id": "Q-IGH2XCyeq0",
    "outputId": "d9331f33-4374-4167-a6da-3ae0c69ebc2d"
   },
   "outputs": [
    {
     "name": "stdout",
     "output_type": "stream",
     "text": [
      "(24568, 48, 48, 1) (24568, 5)\n"
     ]
    }
   ],
   "source": [
    "# split the dataframe to features and labels\n",
    "# from keras.utils import to_categorical\n",
    "\n",
    "X = emotion_df['pixels']\n",
    "# y = to_categorical(emotion_df['emotion'])\n",
    "y = pd.get_dummies(emotion_df['emotion'])\n",
    "\n",
    "X = np.stack(X, axis = 0)\n",
    "X = X.reshape(24568, 48, 48, 1)\n",
    "\n",
    "print(X.shape, y.shape)"
   ]
  },
  {
   "cell_type": "code",
   "execution_count": 23,
   "metadata": {
    "colab": {
     "base_uri": "https://localhost:8080/",
     "height": 34
    },
    "colab_type": "code",
    "executionInfo": {
     "elapsed": 1244,
     "status": "ok",
     "timestamp": 1597054028720,
     "user": {
      "displayName": "Prabor Mukherjee",
      "photoUrl": "https://lh3.googleusercontent.com/a-/AOh14GgEjkQ5vy7fT2x3s2YWntD0EF78ID9vVZSBwd-t=s64",
      "userId": "10603689785655987874"
     },
     "user_tz": -330
    },
    "id": "8qOaq5eOyeq2",
    "outputId": "2409a36f-cae3-4a40-9079-64c74be826d6"
   },
   "outputs": [
    {
     "data": {
      "text/plain": [
       "(24568, 48, 48, 1)"
      ]
     },
     "execution_count": 23,
     "metadata": {
      "tags": []
     },
     "output_type": "execute_result"
    }
   ],
   "source": [
    "X.shape"
   ]
  },
  {
   "cell_type": "code",
   "execution_count": 24,
   "metadata": {
    "colab": {
     "base_uri": "https://localhost:8080/",
     "height": 34
    },
    "colab_type": "code",
    "executionInfo": {
     "elapsed": 1328,
     "status": "ok",
     "timestamp": 1597054030386,
     "user": {
      "displayName": "Prabor Mukherjee",
      "photoUrl": "https://lh3.googleusercontent.com/a-/AOh14GgEjkQ5vy7fT2x3s2YWntD0EF78ID9vVZSBwd-t=s64",
      "userId": "10603689785655987874"
     },
     "user_tz": -330
    },
    "id": "h1Dj3n-Zyeq4",
    "outputId": "c148bf0b-1d8a-40a9-cc5c-52b4599f1f88"
   },
   "outputs": [
    {
     "data": {
      "text/plain": [
       "(24568, 5)"
      ]
     },
     "execution_count": 24,
     "metadata": {
      "tags": []
     },
     "output_type": "execute_result"
    }
   ],
   "source": [
    "y.shape"
   ]
  },
  {
   "cell_type": "code",
   "execution_count": 25,
   "metadata": {
    "colab": {
     "base_uri": "https://localhost:8080/",
     "height": 1000
    },
    "colab_type": "code",
    "executionInfo": {
     "elapsed": 1495,
     "status": "ok",
     "timestamp": 1597054031918,
     "user": {
      "displayName": "Prabor Mukherjee",
      "photoUrl": "https://lh3.googleusercontent.com/a-/AOh14GgEjkQ5vy7fT2x3s2YWntD0EF78ID9vVZSBwd-t=s64",
      "userId": "10603689785655987874"
     },
     "user_tz": -330
    },
    "id": "jb8sZ9-1yeq6",
    "outputId": "db1cb7c3-8298-4aa4-9ca8-bbb0d4389058"
   },
   "outputs": [
    {
     "data": {
      "text/plain": [
       "array([[[[ 70.],\n",
       "         [ 80.],\n",
       "         [ 82.],\n",
       "         ...,\n",
       "         [ 52.],\n",
       "         [ 43.],\n",
       "         [ 41.]],\n",
       "\n",
       "        [[ 65.],\n",
       "         [ 61.],\n",
       "         [ 58.],\n",
       "         ...,\n",
       "         [ 56.],\n",
       "         [ 52.],\n",
       "         [ 44.]],\n",
       "\n",
       "        [[ 50.],\n",
       "         [ 43.],\n",
       "         [ 54.],\n",
       "         ...,\n",
       "         [ 49.],\n",
       "         [ 56.],\n",
       "         [ 47.]],\n",
       "\n",
       "        ...,\n",
       "\n",
       "        [[ 91.],\n",
       "         [ 65.],\n",
       "         [ 42.],\n",
       "         ...,\n",
       "         [ 72.],\n",
       "         [ 56.],\n",
       "         [ 43.]],\n",
       "\n",
       "        [[ 77.],\n",
       "         [ 82.],\n",
       "         [ 79.],\n",
       "         ...,\n",
       "         [105.],\n",
       "         [ 70.],\n",
       "         [ 46.]],\n",
       "\n",
       "        [[ 77.],\n",
       "         [ 72.],\n",
       "         [ 84.],\n",
       "         ...,\n",
       "         [106.],\n",
       "         [109.],\n",
       "         [ 82.]]],\n",
       "\n",
       "\n",
       "       [[[151.],\n",
       "         [150.],\n",
       "         [147.],\n",
       "         ...,\n",
       "         [129.],\n",
       "         [140.],\n",
       "         [120.]],\n",
       "\n",
       "        [[151.],\n",
       "         [149.],\n",
       "         [149.],\n",
       "         ...,\n",
       "         [122.],\n",
       "         [141.],\n",
       "         [137.]],\n",
       "\n",
       "        [[151.],\n",
       "         [151.],\n",
       "         [156.],\n",
       "         ...,\n",
       "         [109.],\n",
       "         [123.],\n",
       "         [146.]],\n",
       "\n",
       "        ...,\n",
       "\n",
       "        [[188.],\n",
       "         [188.],\n",
       "         [121.],\n",
       "         ...,\n",
       "         [185.],\n",
       "         [185.],\n",
       "         [186.]],\n",
       "\n",
       "        [[188.],\n",
       "         [187.],\n",
       "         [196.],\n",
       "         ...,\n",
       "         [186.],\n",
       "         [182.],\n",
       "         [187.]],\n",
       "\n",
       "        [[186.],\n",
       "         [184.],\n",
       "         [185.],\n",
       "         ...,\n",
       "         [193.],\n",
       "         [183.],\n",
       "         [184.]]],\n",
       "\n",
       "\n",
       "       [[[ 24.],\n",
       "         [ 32.],\n",
       "         [ 36.],\n",
       "         ...,\n",
       "         [173.],\n",
       "         [172.],\n",
       "         [173.]],\n",
       "\n",
       "        [[ 25.],\n",
       "         [ 34.],\n",
       "         [ 29.],\n",
       "         ...,\n",
       "         [173.],\n",
       "         [172.],\n",
       "         [173.]],\n",
       "\n",
       "        [[ 26.],\n",
       "         [ 29.],\n",
       "         [ 25.],\n",
       "         ...,\n",
       "         [172.],\n",
       "         [172.],\n",
       "         [174.]],\n",
       "\n",
       "        ...,\n",
       "\n",
       "        [[159.],\n",
       "         [185.],\n",
       "         [157.],\n",
       "         ...,\n",
       "         [157.],\n",
       "         [156.],\n",
       "         [153.]],\n",
       "\n",
       "        [[136.],\n",
       "         [157.],\n",
       "         [187.],\n",
       "         ...,\n",
       "         [152.],\n",
       "         [152.],\n",
       "         [150.]],\n",
       "\n",
       "        [[145.],\n",
       "         [130.],\n",
       "         [161.],\n",
       "         ...,\n",
       "         [142.],\n",
       "         [143.],\n",
       "         [142.]]],\n",
       "\n",
       "\n",
       "       ...,\n",
       "\n",
       "\n",
       "       [[[178.],\n",
       "         [174.],\n",
       "         [172.],\n",
       "         ...,\n",
       "         [ 78.],\n",
       "         [ 41.],\n",
       "         [ 57.]],\n",
       "\n",
       "        [[181.],\n",
       "         [178.],\n",
       "         [178.],\n",
       "         ...,\n",
       "         [126.],\n",
       "         [ 63.],\n",
       "         [ 64.]],\n",
       "\n",
       "        [[181.],\n",
       "         [176.],\n",
       "         [176.],\n",
       "         ...,\n",
       "         [177.],\n",
       "         [145.],\n",
       "         [ 82.]],\n",
       "\n",
       "        ...,\n",
       "\n",
       "        [[193.],\n",
       "         [191.],\n",
       "         [187.],\n",
       "         ...,\n",
       "         [  1.],\n",
       "         [  1.],\n",
       "         [  0.]],\n",
       "\n",
       "        [[193.],\n",
       "         [192.],\n",
       "         [191.],\n",
       "         ...,\n",
       "         [  0.],\n",
       "         [  0.],\n",
       "         [  0.]],\n",
       "\n",
       "        [[194.],\n",
       "         [191.],\n",
       "         [192.],\n",
       "         ...,\n",
       "         [  0.],\n",
       "         [  0.],\n",
       "         [  0.]]],\n",
       "\n",
       "\n",
       "       [[[ 17.],\n",
       "         [ 17.],\n",
       "         [ 16.],\n",
       "         ...,\n",
       "         [ 83.],\n",
       "         [114.],\n",
       "         [245.]],\n",
       "\n",
       "        [[ 18.],\n",
       "         [ 17.],\n",
       "         [ 16.],\n",
       "         ...,\n",
       "         [104.],\n",
       "         [136.],\n",
       "         [253.]],\n",
       "\n",
       "        [[ 19.],\n",
       "         [ 16.],\n",
       "         [ 17.],\n",
       "         ...,\n",
       "         [128.],\n",
       "         [152.],\n",
       "         [255.]],\n",
       "\n",
       "        ...,\n",
       "\n",
       "        [[  4.],\n",
       "         [ 21.],\n",
       "         [ 46.],\n",
       "         ...,\n",
       "         [186.],\n",
       "         [180.],\n",
       "         [187.]],\n",
       "\n",
       "        [[  5.],\n",
       "         [ 17.],\n",
       "         [ 41.],\n",
       "         ...,\n",
       "         [177.],\n",
       "         [172.],\n",
       "         [176.]],\n",
       "\n",
       "        [[ 20.],\n",
       "         [ 15.],\n",
       "         [ 22.],\n",
       "         ...,\n",
       "         [154.],\n",
       "         [133.],\n",
       "         [113.]]],\n",
       "\n",
       "\n",
       "       [[[ 30.],\n",
       "         [ 28.],\n",
       "         [ 28.],\n",
       "         ...,\n",
       "         [ 60.],\n",
       "         [ 50.],\n",
       "         [ 44.]],\n",
       "\n",
       "        [[ 30.],\n",
       "         [ 27.],\n",
       "         [ 28.],\n",
       "         ...,\n",
       "         [ 64.],\n",
       "         [ 52.],\n",
       "         [ 40.]],\n",
       "\n",
       "        [[ 31.],\n",
       "         [ 28.],\n",
       "         [ 30.],\n",
       "         ...,\n",
       "         [ 61.],\n",
       "         [ 54.],\n",
       "         [ 37.]],\n",
       "\n",
       "        ...,\n",
       "\n",
       "        [[104.],\n",
       "         [109.],\n",
       "         [110.],\n",
       "         ...,\n",
       "         [ 35.],\n",
       "         [ 30.],\n",
       "         [ 30.]],\n",
       "\n",
       "        [[102.],\n",
       "         [105.],\n",
       "         [108.],\n",
       "         ...,\n",
       "         [ 35.],\n",
       "         [ 31.],\n",
       "         [ 29.]],\n",
       "\n",
       "        [[ 93.],\n",
       "         [ 96.],\n",
       "         [100.],\n",
       "         ...,\n",
       "         [ 35.],\n",
       "         [ 30.],\n",
       "         [ 28.]]]], dtype=float32)"
      ]
     },
     "execution_count": 25,
     "metadata": {
      "tags": []
     },
     "output_type": "execute_result"
    }
   ],
   "source": [
    "X"
   ]
  },
  {
   "cell_type": "code",
   "execution_count": 26,
   "metadata": {
    "colab": {},
    "colab_type": "code",
    "executionInfo": {
     "elapsed": 1253,
     "status": "ok",
     "timestamp": 1597054042902,
     "user": {
      "displayName": "Prabor Mukherjee",
      "photoUrl": "https://lh3.googleusercontent.com/a-/AOh14GgEjkQ5vy7fT2x3s2YWntD0EF78ID9vVZSBwd-t=s64",
      "userId": "10603689785655987874"
     },
     "user_tz": -330
    },
    "id": "RMhfTvORyeq9"
   },
   "outputs": [],
   "source": [
    "X = np.array(X)\n",
    "y = np.array(y)"
   ]
  },
  {
   "cell_type": "code",
   "execution_count": 27,
   "metadata": {
    "colab": {},
    "colab_type": "code",
    "executionInfo": {
     "elapsed": 1418,
     "status": "ok",
     "timestamp": 1597054044287,
     "user": {
      "displayName": "Prabor Mukherjee",
      "photoUrl": "https://lh3.googleusercontent.com/a-/AOh14GgEjkQ5vy7fT2x3s2YWntD0EF78ID9vVZSBwd-t=s64",
      "userId": "10603689785655987874"
     },
     "user_tz": -330
    },
    "id": "v_vVGW5gyeq_"
   },
   "outputs": [],
   "source": [
    "# spliting the dataframe in to train,test and validation data frames\n",
    "\n",
    "from sklearn.model_selection import train_test_split\n",
    "\n",
    "X_train, X_Test, y_train, y_Test = train_test_split(X,y,test_size = 0.1, shuffle = True)\n",
    "X_val, X_Test, y_val, y_Test = train_test_split(X_Test,y_Test, test_size = 0.5, shuffle = True)\n"
   ]
  },
  {
   "cell_type": "code",
   "execution_count": 28,
   "metadata": {
    "colab": {
     "base_uri": "https://localhost:8080/",
     "height": 34
    },
    "colab_type": "code",
    "executionInfo": {
     "elapsed": 1466,
     "status": "ok",
     "timestamp": 1597054047463,
     "user": {
      "displayName": "Prabor Mukherjee",
      "photoUrl": "https://lh3.googleusercontent.com/a-/AOh14GgEjkQ5vy7fT2x3s2YWntD0EF78ID9vVZSBwd-t=s64",
      "userId": "10603689785655987874"
     },
     "user_tz": -330
    },
    "id": "hDkrqYe9yerB",
    "outputId": "ca4b8463-8366-4bd6-e910-e7916ac69c59"
   },
   "outputs": [
    {
     "name": "stdout",
     "output_type": "stream",
     "text": [
      "(1228, 48, 48, 1) (1228, 5)\n"
     ]
    }
   ],
   "source": [
    "print(X_val.shape, y_val.shape)"
   ]
  },
  {
   "cell_type": "code",
   "execution_count": 29,
   "metadata": {
    "colab": {
     "base_uri": "https://localhost:8080/",
     "height": 34
    },
    "colab_type": "code",
    "executionInfo": {
     "elapsed": 1257,
     "status": "ok",
     "timestamp": 1597054050226,
     "user": {
      "displayName": "Prabor Mukherjee",
      "photoUrl": "https://lh3.googleusercontent.com/a-/AOh14GgEjkQ5vy7fT2x3s2YWntD0EF78ID9vVZSBwd-t=s64",
      "userId": "10603689785655987874"
     },
     "user_tz": -330
    },
    "id": "UbA02rujyerD",
    "outputId": "4d501228-0bba-49c7-b772-82cfde277007"
   },
   "outputs": [
    {
     "name": "stdout",
     "output_type": "stream",
     "text": [
      "(1229, 48, 48, 1) (1229, 5)\n"
     ]
    }
   ],
   "source": [
    "print(X_Test.shape, y_Test.shape)"
   ]
  },
  {
   "cell_type": "code",
   "execution_count": 30,
   "metadata": {
    "colab": {
     "base_uri": "https://localhost:8080/",
     "height": 34
    },
    "colab_type": "code",
    "executionInfo": {
     "elapsed": 1176,
     "status": "ok",
     "timestamp": 1597054052686,
     "user": {
      "displayName": "Prabor Mukherjee",
      "photoUrl": "https://lh3.googleusercontent.com/a-/AOh14GgEjkQ5vy7fT2x3s2YWntD0EF78ID9vVZSBwd-t=s64",
      "userId": "10603689785655987874"
     },
     "user_tz": -330
    },
    "id": "PK3iKf6HyerF",
    "outputId": "fae04b9d-6d40-4c85-9a00-a91814498c2b"
   },
   "outputs": [
    {
     "name": "stdout",
     "output_type": "stream",
     "text": [
      "(22111, 48, 48, 1) (22111, 5)\n"
     ]
    }
   ],
   "source": [
    "print(X_train.shape, y_train.shape)"
   ]
  },
  {
   "cell_type": "code",
   "execution_count": 31,
   "metadata": {
    "colab": {},
    "colab_type": "code",
    "executionInfo": {
     "elapsed": 1495,
     "status": "ok",
     "timestamp": 1597054054912,
     "user": {
      "displayName": "Prabor Mukherjee",
      "photoUrl": "https://lh3.googleusercontent.com/a-/AOh14GgEjkQ5vy7fT2x3s2YWntD0EF78ID9vVZSBwd-t=s64",
      "userId": "10603689785655987874"
     },
     "user_tz": -330
    },
    "id": "fmj-UBTVyerH"
   },
   "outputs": [],
   "source": [
    "# image pre-processing\n",
    "\n",
    "X_train = X_train/255\n",
    "X_val   = X_val /255\n",
    "X_Test  = X_Test/255"
   ]
  },
  {
   "cell_type": "code",
   "execution_count": 32,
   "metadata": {
    "colab": {},
    "colab_type": "code",
    "executionInfo": {
     "elapsed": 916,
     "status": "ok",
     "timestamp": 1597054057047,
     "user": {
      "displayName": "Prabor Mukherjee",
      "photoUrl": "https://lh3.googleusercontent.com/a-/AOh14GgEjkQ5vy7fT2x3s2YWntD0EF78ID9vVZSBwd-t=s64",
      "userId": "10603689785655987874"
     },
     "user_tz": -330
    },
    "id": "EeuHYS6nyerM"
   },
   "outputs": [],
   "source": [
    "train_datagen = ImageDataGenerator(\n",
    "rotation_range=15,\n",
    "    width_shift_range=0.1,\n",
    "    height_shift_range=0.1,\n",
    "    shear_range=0.1,\n",
    "    zoom_range=0.1,\n",
    "    fill_mode = \"nearest\"\n",
    ")"
   ]
  },
  {
   "cell_type": "markdown",
   "metadata": {
    "colab_type": "text",
    "id": "615-qU8iyesY"
   },
   "source": [
    "https://keras.io/api/preprocessing/image/"
   ]
  },
  {
   "cell_type": "code",
   "execution_count": null,
   "metadata": {
    "colab": {},
    "colab_type": "code",
    "id": "32oM4TQQyerO"
   },
   "outputs": [],
   "source": [
    "# train_datagen = ImageDataGenerator(\n",
    "# rotation_range=15,\n",
    "#     width_shift_range=0.1,\n",
    "#     height_shift_range=0.1,\n",
    "#     shear_range=0.1,\n",
    "#     zoom_range=0.1,\n",
    "#     horizontal_flip=True,\n",
    "#     fill_mode = \"nearest\", \n",
    "#     vertical_flip=True,\n",
    "# )"
   ]
  },
  {
   "cell_type": "markdown",
   "metadata": {
    "colab_type": "text",
    "id": "G1gvRNaTyerR"
   },
   "source": [
    "# Part #5: UNDERSTAND THE INTUITION BEHIND CONVOLUTIONAL NEURAL NETWORKS AND RESNETS"
   ]
  },
  {
   "cell_type": "markdown",
   "metadata": {
    "colab_type": "text",
    "id": "ko94YMbCyerR"
   },
   "source": [
    "<img src=\"images/2.png\">"
   ]
  },
  {
   "cell_type": "markdown",
   "metadata": {
    "colab_type": "text",
    "id": "6xnNNZ8hyerS"
   },
   "source": [
    "<img src=\"images/3.png\">"
   ]
  },
  {
   "cell_type": "markdown",
   "metadata": {
    "colab_type": "text",
    "id": "OP2NV4RkyerS"
   },
   "source": [
    "<img src=\"images/4.png\">"
   ]
  },
  {
   "cell_type": "markdown",
   "metadata": {
    "colab_type": "text",
    "id": "GVDVDYH8yerS"
   },
   "source": [
    "<img src=\"images/5.png\">"
   ]
  },
  {
   "cell_type": "markdown",
   "metadata": {
    "colab_type": "text",
    "id": "u5FVA7aGyesa"
   },
   "source": [
    "https://medium.com/analytics-vidhya/cnns-architectures-lenet-alexnet-vgg-googlenet-resnet-and-more-666091488df5"
   ]
  },
  {
   "cell_type": "markdown",
   "metadata": {
    "colab_type": "text",
    "id": "0FJyk7QiyerX"
   },
   "source": [
    "# Part #6: BUILD AND TRAIN DEEP LEARNING MODEL FOR FACIAL EXPRESSION CLASSIFICATION"
   ]
  },
  {
   "cell_type": "code",
   "execution_count": 33,
   "metadata": {
    "colab": {},
    "colab_type": "code",
    "executionInfo": {
     "elapsed": 1316,
     "status": "ok",
     "timestamp": 1597054067225,
     "user": {
      "displayName": "Prabor Mukherjee",
      "photoUrl": "https://lh3.googleusercontent.com/a-/AOh14GgEjkQ5vy7fT2x3s2YWntD0EF78ID9vVZSBwd-t=s64",
      "userId": "10603689785655987874"
     },
     "user_tz": -330
    },
    "id": "7W7GGwFByerX"
   },
   "outputs": [],
   "source": [
    "def res_block(X, filter, stage):\n",
    "\n",
    "  # Convolutional_block\n",
    "  X_copy = X\n",
    "\n",
    "  f1 , f2, f3 = filter\n",
    "\n",
    "  # Main Path\n",
    "  X = Conv2D(f1, (1,1),strides = (1,1), name ='res_'+str(stage)+'_conv_a', kernel_initializer= glorot_uniform(seed = 0))(X)\n",
    "  X = MaxPool2D((2,2))(X)\n",
    "  X = BatchNormalization(axis =3, name = 'bn_'+str(stage)+'_conv_a')(X)\n",
    "  X = Activation('relu')(X) \n",
    "\n",
    "  X = Conv2D(f2, kernel_size = (3,3), strides =(1,1), padding = 'same', name ='res_'+str(stage)+'_conv_b', kernel_initializer= glorot_uniform(seed = 0))(X)\n",
    "  X = BatchNormalization(axis =3, name = 'bn_'+str(stage)+'_conv_b')(X)\n",
    "  X = Activation('relu')(X) \n",
    "\n",
    "  X = Conv2D(f3, kernel_size = (1,1), strides =(1,1),name ='res_'+str(stage)+'_conv_c', kernel_initializer= glorot_uniform(seed = 0))(X)\n",
    "  X = BatchNormalization(axis =3, name = 'bn_'+str(stage)+'_conv_c')(X)\n",
    "\n",
    "\n",
    "  # Short path\n",
    "  X_copy = Conv2D(f3, kernel_size = (1,1), strides =(1,1),name ='res_'+str(stage)+'_conv_copy', kernel_initializer= glorot_uniform(seed = 0))(X_copy)\n",
    "  X_copy = MaxPool2D((2,2))(X_copy)\n",
    "  X_copy = BatchNormalization(axis =3, name = 'bn_'+str(stage)+'_conv_copy')(X_copy)\n",
    "\n",
    "  # ADD\n",
    "  X = Add()([X,X_copy])\n",
    "  X = Activation('relu')(X)\n",
    "\n",
    "  # Identity Block 1\n",
    "  X_copy = X\n",
    "\n",
    "\n",
    "  # Main Path\n",
    "  X = Conv2D(f1, (1,1),strides = (1,1), name ='res_'+str(stage)+'_identity_1_a', kernel_initializer= glorot_uniform(seed = 0))(X)\n",
    "  X = BatchNormalization(axis =3, name = 'bn_'+str(stage)+'_identity_1_a')(X)\n",
    "  X = Activation('relu')(X) \n",
    "\n",
    "  X = Conv2D(f2, kernel_size = (3,3), strides =(1,1), padding = 'same', name ='res_'+str(stage)+'_identity_1_b', kernel_initializer= glorot_uniform(seed = 0))(X)\n",
    "  X = BatchNormalization(axis =3, name = 'bn_'+str(stage)+'_identity_1_b')(X)\n",
    "  X = Activation('relu')(X) \n",
    "\n",
    "  X = Conv2D(f3, kernel_size = (1,1), strides =(1,1),name ='res_'+str(stage)+'_identity_1_c', kernel_initializer= glorot_uniform(seed = 0))(X)\n",
    "  X = BatchNormalization(axis =3, name = 'bn_'+str(stage)+'_identity_1_c')(X)\n",
    "\n",
    "  # ADD\n",
    "  X = Add()([X,X_copy])\n",
    "  X = Activation('relu')(X)\n",
    "\n",
    "  # Identity Block 2\n",
    "  X_copy = X\n",
    "\n",
    "\n",
    "  # Main Path\n",
    "  X = Conv2D(f1, (1,1),strides = (1,1), name ='res_'+str(stage)+'_identity_2_a', kernel_initializer= glorot_uniform(seed = 0))(X)\n",
    "  X = BatchNormalization(axis =3, name = 'bn_'+str(stage)+'_identity_2_a')(X)\n",
    "  X = Activation('relu')(X) \n",
    "\n",
    "  X = Conv2D(f2, kernel_size = (3,3), strides =(1,1), padding = 'same', name ='res_'+str(stage)+'_identity_2_b', kernel_initializer= glorot_uniform(seed = 0))(X)\n",
    "  X = BatchNormalization(axis =3, name = 'bn_'+str(stage)+'_identity_2_b')(X)\n",
    "  X = Activation('relu')(X) \n",
    "\n",
    "  X = Conv2D(f3, kernel_size = (1,1), strides =(1,1),name ='res_'+str(stage)+'_identity_2_c', kernel_initializer= glorot_uniform(seed = 0))(X)\n",
    "  X = BatchNormalization(axis =3, name = 'bn_'+str(stage)+'_identity_2_c')(X)\n",
    "\n",
    "  # ADD\n",
    "  X = Add()([X,X_copy])\n",
    "  X = Activation('relu')(X)\n",
    "\n",
    "  return X"
   ]
  },
  {
   "cell_type": "code",
   "execution_count": 34,
   "metadata": {
    "colab": {
     "base_uri": "https://localhost:8080/",
     "height": 1000
    },
    "colab_type": "code",
    "executionInfo": {
     "elapsed": 6927,
     "status": "ok",
     "timestamp": 1597054078203,
     "user": {
      "displayName": "Prabor Mukherjee",
      "photoUrl": "https://lh3.googleusercontent.com/a-/AOh14GgEjkQ5vy7fT2x3s2YWntD0EF78ID9vVZSBwd-t=s64",
      "userId": "10603689785655987874"
     },
     "user_tz": -330
    },
    "id": "YZ-7u46uyerZ",
    "outputId": "850c498f-87b0-4b1e-d52f-cb160ba99654"
   },
   "outputs": [
    {
     "name": "stdout",
     "output_type": "stream",
     "text": [
      "Model: \"Resnet18\"\n",
      "__________________________________________________________________________________________________\n",
      "Layer (type)                    Output Shape         Param #     Connected to                     \n",
      "==================================================================================================\n",
      "input_1 (InputLayer)            [(None, 48, 48, 1)]  0                                            \n",
      "__________________________________________________________________________________________________\n",
      "zero_padding2d (ZeroPadding2D)  (None, 54, 54, 1)    0           input_1[0][0]                    \n",
      "__________________________________________________________________________________________________\n",
      "conv1 (Conv2D)                  (None, 24, 24, 64)   3200        zero_padding2d[0][0]             \n",
      "__________________________________________________________________________________________________\n",
      "bn_conv1 (BatchNormalization)   (None, 24, 24, 64)   256         conv1[0][0]                      \n",
      "__________________________________________________________________________________________________\n",
      "activation (Activation)         (None, 24, 24, 64)   0           bn_conv1[0][0]                   \n",
      "__________________________________________________________________________________________________\n",
      "max_pooling2d (MaxPooling2D)    (None, 11, 11, 64)   0           activation[0][0]                 \n",
      "__________________________________________________________________________________________________\n",
      "res_2_conv_a (Conv2D)           (None, 11, 11, 64)   4160        max_pooling2d[0][0]              \n",
      "__________________________________________________________________________________________________\n",
      "max_pooling2d_1 (MaxPooling2D)  (None, 5, 5, 64)     0           res_2_conv_a[0][0]               \n",
      "__________________________________________________________________________________________________\n",
      "bn_2_conv_a (BatchNormalization (None, 5, 5, 64)     256         max_pooling2d_1[0][0]            \n",
      "__________________________________________________________________________________________________\n",
      "activation_1 (Activation)       (None, 5, 5, 64)     0           bn_2_conv_a[0][0]                \n",
      "__________________________________________________________________________________________________\n",
      "res_2_conv_b (Conv2D)           (None, 5, 5, 64)     36928       activation_1[0][0]               \n",
      "__________________________________________________________________________________________________\n",
      "bn_2_conv_b (BatchNormalization (None, 5, 5, 64)     256         res_2_conv_b[0][0]               \n",
      "__________________________________________________________________________________________________\n",
      "activation_2 (Activation)       (None, 5, 5, 64)     0           bn_2_conv_b[0][0]                \n",
      "__________________________________________________________________________________________________\n",
      "res_2_conv_copy (Conv2D)        (None, 11, 11, 256)  16640       max_pooling2d[0][0]              \n",
      "__________________________________________________________________________________________________\n",
      "res_2_conv_c (Conv2D)           (None, 5, 5, 256)    16640       activation_2[0][0]               \n",
      "__________________________________________________________________________________________________\n",
      "max_pooling2d_2 (MaxPooling2D)  (None, 5, 5, 256)    0           res_2_conv_copy[0][0]            \n",
      "__________________________________________________________________________________________________\n",
      "bn_2_conv_c (BatchNormalization (None, 5, 5, 256)    1024        res_2_conv_c[0][0]               \n",
      "__________________________________________________________________________________________________\n",
      "bn_2_conv_copy (BatchNormalizat (None, 5, 5, 256)    1024        max_pooling2d_2[0][0]            \n",
      "__________________________________________________________________________________________________\n",
      "add (Add)                       (None, 5, 5, 256)    0           bn_2_conv_c[0][0]                \n",
      "                                                                 bn_2_conv_copy[0][0]             \n",
      "__________________________________________________________________________________________________\n",
      "activation_3 (Activation)       (None, 5, 5, 256)    0           add[0][0]                        \n",
      "__________________________________________________________________________________________________\n",
      "res_2_identity_1_a (Conv2D)     (None, 5, 5, 64)     16448       activation_3[0][0]               \n",
      "__________________________________________________________________________________________________\n",
      "bn_2_identity_1_a (BatchNormali (None, 5, 5, 64)     256         res_2_identity_1_a[0][0]         \n",
      "__________________________________________________________________________________________________\n",
      "activation_4 (Activation)       (None, 5, 5, 64)     0           bn_2_identity_1_a[0][0]          \n",
      "__________________________________________________________________________________________________\n",
      "res_2_identity_1_b (Conv2D)     (None, 5, 5, 64)     36928       activation_4[0][0]               \n",
      "__________________________________________________________________________________________________\n",
      "bn_2_identity_1_b (BatchNormali (None, 5, 5, 64)     256         res_2_identity_1_b[0][0]         \n",
      "__________________________________________________________________________________________________\n",
      "activation_5 (Activation)       (None, 5, 5, 64)     0           bn_2_identity_1_b[0][0]          \n",
      "__________________________________________________________________________________________________\n",
      "res_2_identity_1_c (Conv2D)     (None, 5, 5, 256)    16640       activation_5[0][0]               \n",
      "__________________________________________________________________________________________________\n",
      "bn_2_identity_1_c (BatchNormali (None, 5, 5, 256)    1024        res_2_identity_1_c[0][0]         \n",
      "__________________________________________________________________________________________________\n",
      "add_1 (Add)                     (None, 5, 5, 256)    0           bn_2_identity_1_c[0][0]          \n",
      "                                                                 activation_3[0][0]               \n",
      "__________________________________________________________________________________________________\n",
      "activation_6 (Activation)       (None, 5, 5, 256)    0           add_1[0][0]                      \n",
      "__________________________________________________________________________________________________\n",
      "res_2_identity_2_a (Conv2D)     (None, 5, 5, 64)     16448       activation_6[0][0]               \n",
      "__________________________________________________________________________________________________\n",
      "bn_2_identity_2_a (BatchNormali (None, 5, 5, 64)     256         res_2_identity_2_a[0][0]         \n",
      "__________________________________________________________________________________________________\n",
      "activation_7 (Activation)       (None, 5, 5, 64)     0           bn_2_identity_2_a[0][0]          \n",
      "__________________________________________________________________________________________________\n",
      "res_2_identity_2_b (Conv2D)     (None, 5, 5, 64)     36928       activation_7[0][0]               \n",
      "__________________________________________________________________________________________________\n",
      "bn_2_identity_2_b (BatchNormali (None, 5, 5, 64)     256         res_2_identity_2_b[0][0]         \n",
      "__________________________________________________________________________________________________\n",
      "activation_8 (Activation)       (None, 5, 5, 64)     0           bn_2_identity_2_b[0][0]          \n",
      "__________________________________________________________________________________________________\n",
      "res_2_identity_2_c (Conv2D)     (None, 5, 5, 256)    16640       activation_8[0][0]               \n",
      "__________________________________________________________________________________________________\n",
      "bn_2_identity_2_c (BatchNormali (None, 5, 5, 256)    1024        res_2_identity_2_c[0][0]         \n",
      "__________________________________________________________________________________________________\n",
      "add_2 (Add)                     (None, 5, 5, 256)    0           bn_2_identity_2_c[0][0]          \n",
      "                                                                 activation_6[0][0]               \n",
      "__________________________________________________________________________________________________\n",
      "activation_9 (Activation)       (None, 5, 5, 256)    0           add_2[0][0]                      \n",
      "__________________________________________________________________________________________________\n",
      "res_3_conv_a (Conv2D)           (None, 5, 5, 128)    32896       activation_9[0][0]               \n",
      "__________________________________________________________________________________________________\n",
      "max_pooling2d_3 (MaxPooling2D)  (None, 2, 2, 128)    0           res_3_conv_a[0][0]               \n",
      "__________________________________________________________________________________________________\n",
      "bn_3_conv_a (BatchNormalization (None, 2, 2, 128)    512         max_pooling2d_3[0][0]            \n",
      "__________________________________________________________________________________________________\n",
      "activation_10 (Activation)      (None, 2, 2, 128)    0           bn_3_conv_a[0][0]                \n",
      "__________________________________________________________________________________________________\n",
      "res_3_conv_b (Conv2D)           (None, 2, 2, 128)    147584      activation_10[0][0]              \n",
      "__________________________________________________________________________________________________\n",
      "bn_3_conv_b (BatchNormalization (None, 2, 2, 128)    512         res_3_conv_b[0][0]               \n",
      "__________________________________________________________________________________________________\n",
      "activation_11 (Activation)      (None, 2, 2, 128)    0           bn_3_conv_b[0][0]                \n",
      "__________________________________________________________________________________________________\n",
      "res_3_conv_copy (Conv2D)        (None, 5, 5, 512)    131584      activation_9[0][0]               \n",
      "__________________________________________________________________________________________________\n",
      "res_3_conv_c (Conv2D)           (None, 2, 2, 512)    66048       activation_11[0][0]              \n",
      "__________________________________________________________________________________________________\n",
      "max_pooling2d_4 (MaxPooling2D)  (None, 2, 2, 512)    0           res_3_conv_copy[0][0]            \n",
      "__________________________________________________________________________________________________\n",
      "bn_3_conv_c (BatchNormalization (None, 2, 2, 512)    2048        res_3_conv_c[0][0]               \n",
      "__________________________________________________________________________________________________\n",
      "bn_3_conv_copy (BatchNormalizat (None, 2, 2, 512)    2048        max_pooling2d_4[0][0]            \n",
      "__________________________________________________________________________________________________\n",
      "add_3 (Add)                     (None, 2, 2, 512)    0           bn_3_conv_c[0][0]                \n",
      "                                                                 bn_3_conv_copy[0][0]             \n",
      "__________________________________________________________________________________________________\n",
      "activation_12 (Activation)      (None, 2, 2, 512)    0           add_3[0][0]                      \n",
      "__________________________________________________________________________________________________\n",
      "res_3_identity_1_a (Conv2D)     (None, 2, 2, 128)    65664       activation_12[0][0]              \n",
      "__________________________________________________________________________________________________\n",
      "bn_3_identity_1_a (BatchNormali (None, 2, 2, 128)    512         res_3_identity_1_a[0][0]         \n",
      "__________________________________________________________________________________________________\n",
      "activation_13 (Activation)      (None, 2, 2, 128)    0           bn_3_identity_1_a[0][0]          \n",
      "__________________________________________________________________________________________________\n",
      "res_3_identity_1_b (Conv2D)     (None, 2, 2, 128)    147584      activation_13[0][0]              \n",
      "__________________________________________________________________________________________________\n",
      "bn_3_identity_1_b (BatchNormali (None, 2, 2, 128)    512         res_3_identity_1_b[0][0]         \n",
      "__________________________________________________________________________________________________\n",
      "activation_14 (Activation)      (None, 2, 2, 128)    0           bn_3_identity_1_b[0][0]          \n",
      "__________________________________________________________________________________________________\n",
      "res_3_identity_1_c (Conv2D)     (None, 2, 2, 512)    66048       activation_14[0][0]              \n",
      "__________________________________________________________________________________________________\n",
      "bn_3_identity_1_c (BatchNormali (None, 2, 2, 512)    2048        res_3_identity_1_c[0][0]         \n",
      "__________________________________________________________________________________________________\n",
      "add_4 (Add)                     (None, 2, 2, 512)    0           bn_3_identity_1_c[0][0]          \n",
      "                                                                 activation_12[0][0]              \n",
      "__________________________________________________________________________________________________\n",
      "activation_15 (Activation)      (None, 2, 2, 512)    0           add_4[0][0]                      \n",
      "__________________________________________________________________________________________________\n",
      "res_3_identity_2_a (Conv2D)     (None, 2, 2, 128)    65664       activation_15[0][0]              \n",
      "__________________________________________________________________________________________________\n",
      "bn_3_identity_2_a (BatchNormali (None, 2, 2, 128)    512         res_3_identity_2_a[0][0]         \n",
      "__________________________________________________________________________________________________\n",
      "activation_16 (Activation)      (None, 2, 2, 128)    0           bn_3_identity_2_a[0][0]          \n",
      "__________________________________________________________________________________________________\n",
      "res_3_identity_2_b (Conv2D)     (None, 2, 2, 128)    147584      activation_16[0][0]              \n",
      "__________________________________________________________________________________________________\n",
      "bn_3_identity_2_b (BatchNormali (None, 2, 2, 128)    512         res_3_identity_2_b[0][0]         \n",
      "__________________________________________________________________________________________________\n",
      "activation_17 (Activation)      (None, 2, 2, 128)    0           bn_3_identity_2_b[0][0]          \n",
      "__________________________________________________________________________________________________\n",
      "res_3_identity_2_c (Conv2D)     (None, 2, 2, 512)    66048       activation_17[0][0]              \n",
      "__________________________________________________________________________________________________\n",
      "bn_3_identity_2_c (BatchNormali (None, 2, 2, 512)    2048        res_3_identity_2_c[0][0]         \n",
      "__________________________________________________________________________________________________\n",
      "add_5 (Add)                     (None, 2, 2, 512)    0           bn_3_identity_2_c[0][0]          \n",
      "                                                                 activation_15[0][0]              \n",
      "__________________________________________________________________________________________________\n",
      "activation_18 (Activation)      (None, 2, 2, 512)    0           add_5[0][0]                      \n",
      "__________________________________________________________________________________________________\n",
      "Averagea_Pooling (AveragePoolin (None, 1, 1, 512)    0           activation_18[0][0]              \n",
      "__________________________________________________________________________________________________\n",
      "flatten (Flatten)               (None, 512)          0           Averagea_Pooling[0][0]           \n",
      "__________________________________________________________________________________________________\n",
      "Dense_final (Dense)             (None, 5)            2565        flatten[0][0]                    \n",
      "==================================================================================================\n",
      "Total params: 1,174,021\n",
      "Trainable params: 1,165,445\n",
      "Non-trainable params: 8,576\n",
      "__________________________________________________________________________________________________\n"
     ]
    }
   ],
   "source": [
    "input_shape = (48, 48, 1)\n",
    "\n",
    "# Input tensor shape\n",
    "X_input = Input(input_shape)\n",
    "\n",
    "# Zero-padding\n",
    "X = ZeroPadding2D((3, 3))(X_input)\n",
    "\n",
    "# 1 - stage\n",
    "X = Conv2D(64, (7, 7), strides= (2, 2), name = 'conv1', kernel_initializer= glorot_uniform(seed = 0))(X)\n",
    "X = BatchNormalization(axis =3, name = 'bn_conv1')(X)\n",
    "X = Activation('relu')(X)\n",
    "X = MaxPooling2D((3, 3), strides= (2, 2))(X)\n",
    "\n",
    "# 2 - stage\n",
    "X = res_block(X, filter= [64, 64, 256], stage= 2)\n",
    "\n",
    "# 3 - stage\n",
    "X = res_block(X, filter= [128, 128, 512], stage= 3)\n",
    "\n",
    "# 4 - stage\n",
    "# X = res_block(X, filter= [256, 256, 1024], stage= 4)\n",
    "\n",
    "# Average Pooling\n",
    "X = AveragePooling2D((2, 2), name = 'Averagea_Pooling')(X)\n",
    "\n",
    "# Final layer\n",
    "X = Flatten()(X)\n",
    "X = Dense(5, activation = 'softmax', name = 'Dense_final', kernel_initializer= glorot_uniform(seed=0))(X)\n",
    "\n",
    "model_emotion = Model( inputs= X_input, outputs = X, name = 'Resnet18')\n",
    "\n",
    "model_emotion.summary()"
   ]
  },
  {
   "cell_type": "code",
   "execution_count": 35,
   "metadata": {
    "colab": {},
    "colab_type": "code",
    "executionInfo": {
     "elapsed": 1452,
     "status": "ok",
     "timestamp": 1597054084818,
     "user": {
      "displayName": "Prabor Mukherjee",
      "photoUrl": "https://lh3.googleusercontent.com/a-/AOh14GgEjkQ5vy7fT2x3s2YWntD0EF78ID9vVZSBwd-t=s64",
      "userId": "10603689785655987874"
     },
     "user_tz": -330
    },
    "id": "sPHpyt7vyerd"
   },
   "outputs": [],
   "source": [
    "# train the network\n",
    "model_emotion.compile(optimizer = \"Adam\", loss = \"categorical_crossentropy\", metrics = [\"accuracy\"])"
   ]
  },
  {
   "cell_type": "code",
   "execution_count": 36,
   "metadata": {
    "colab": {},
    "colab_type": "code",
    "executionInfo": {
     "elapsed": 1320,
     "status": "ok",
     "timestamp": 1597054088550,
     "user": {
      "displayName": "Prabor Mukherjee",
      "photoUrl": "https://lh3.googleusercontent.com/a-/AOh14GgEjkQ5vy7fT2x3s2YWntD0EF78ID9vVZSBwd-t=s64",
      "userId": "10603689785655987874"
     },
     "user_tz": -330
    },
    "id": "BrNvOvNXyerh"
   },
   "outputs": [],
   "source": [
    "# Recall that the first facial key points model was saved as follows: FacialKeyPoints_weights.hdf5 and FacialKeyPoints-model.json\n",
    "\n",
    "# using early stopping to exit training if validation loss is not decreasing even after certain epochs (patience)\n",
    "earlystopping = EarlyStopping(monitor = 'val_loss', mode = 'min', verbose = 1, patience = 20)\n",
    "\n",
    "# save the best model with lower validation loss\n",
    "checkpointer = ModelCheckpoint(filepath = \"models/FacialExpression_weights.hdf5\", verbose = 1, save_best_only=True)"
   ]
  },
  {
   "cell_type": "code",
   "execution_count": 37,
   "metadata": {
    "colab": {
     "base_uri": "https://localhost:8080/",
     "height": 1000
    },
    "colab_type": "code",
    "executionInfo": {
     "elapsed": 441667,
     "status": "ok",
     "timestamp": 1597054535645,
     "user": {
      "displayName": "Prabor Mukherjee",
      "photoUrl": "https://lh3.googleusercontent.com/a-/AOh14GgEjkQ5vy7fT2x3s2YWntD0EF78ID9vVZSBwd-t=s64",
      "userId": "10603689785655987874"
     },
     "user_tz": -330
    },
    "id": "CCqP4aAHyerl",
    "outputId": "f1e80f97-867f-475b-8cc8-1deaa9821fc3"
   },
   "outputs": [
    {
     "name": "stdout",
     "output_type": "stream",
     "text": [
      "Epoch 1/50\n",
      "345/345 [==============================] - ETA: 0s - loss: 1.4330 - accuracy: 0.4197\n",
      "Epoch 00001: val_loss improved from inf to 1.54369, saving model to Pro/My Drive/Colab Notebooks/FacialExpression_weights.hdf5\n",
      "345/345 [==============================] - 11s 32ms/step - loss: 1.4330 - accuracy: 0.4197 - val_loss: 1.5437 - val_accuracy: 0.3950\n",
      "Epoch 2/50\n",
      "344/345 [============================>.] - ETA: 0s - loss: 1.1861 - accuracy: 0.5199\n",
      "Epoch 00002: val_loss improved from 1.54369 to 1.39860, saving model to Pro/My Drive/Colab Notebooks/FacialExpression_weights.hdf5\n",
      "345/345 [==============================] - 10s 30ms/step - loss: 1.1850 - accuracy: 0.5204 - val_loss: 1.3986 - val_accuracy: 0.4544\n",
      "Epoch 3/50\n",
      "345/345 [==============================] - ETA: 0s - loss: 1.0879 - accuracy: 0.5676\n",
      "Epoch 00003: val_loss did not improve from 1.39860\n",
      "345/345 [==============================] - 10s 29ms/step - loss: 1.0879 - accuracy: 0.5676 - val_loss: 1.5538 - val_accuracy: 0.4406\n",
      "Epoch 4/50\n",
      "344/345 [============================>.] - ETA: 0s - loss: 0.9895 - accuracy: 0.6053\n",
      "Epoch 00004: val_loss improved from 1.39860 to 1.21081, saving model to Pro/My Drive/Colab Notebooks/FacialExpression_weights.hdf5\n",
      "345/345 [==============================] - 11s 31ms/step - loss: 0.9893 - accuracy: 0.6054 - val_loss: 1.2108 - val_accuracy: 0.4984\n",
      "Epoch 5/50\n",
      "344/345 [============================>.] - ETA: 0s - loss: 0.9217 - accuracy: 0.6364\n",
      "Epoch 00005: val_loss improved from 1.21081 to 1.02193, saving model to Pro/My Drive/Colab Notebooks/FacialExpression_weights.hdf5\n",
      "345/345 [==============================] - 10s 30ms/step - loss: 0.9216 - accuracy: 0.6364 - val_loss: 1.0219 - val_accuracy: 0.5985\n",
      "Epoch 6/50\n",
      "345/345 [==============================] - ETA: 0s - loss: 0.8757 - accuracy: 0.6533\n",
      "Epoch 00006: val_loss improved from 1.02193 to 0.90969, saving model to Pro/My Drive/Colab Notebooks/FacialExpression_weights.hdf5\n",
      "345/345 [==============================] - 10s 30ms/step - loss: 0.8757 - accuracy: 0.6533 - val_loss: 0.9097 - val_accuracy: 0.6498\n",
      "Epoch 7/50\n",
      "345/345 [==============================] - ETA: 0s - loss: 0.8425 - accuracy: 0.6705\n",
      "Epoch 00007: val_loss did not improve from 0.90969\n",
      "345/345 [==============================] - 10s 28ms/step - loss: 0.8425 - accuracy: 0.6705 - val_loss: 0.9205 - val_accuracy: 0.6466\n",
      "Epoch 8/50\n",
      "345/345 [==============================] - ETA: 0s - loss: 0.8108 - accuracy: 0.6838\n",
      "Epoch 00008: val_loss did not improve from 0.90969\n",
      "345/345 [==============================] - 10s 28ms/step - loss: 0.8108 - accuracy: 0.6838 - val_loss: 0.9355 - val_accuracy: 0.6156\n",
      "Epoch 9/50\n",
      "344/345 [============================>.] - ETA: 0s - loss: 0.7825 - accuracy: 0.6924\n",
      "Epoch 00009: val_loss did not improve from 0.90969\n",
      "345/345 [==============================] - 10s 28ms/step - loss: 0.7828 - accuracy: 0.6923 - val_loss: 1.0349 - val_accuracy: 0.5700\n",
      "Epoch 10/50\n",
      "344/345 [============================>.] - ETA: 0s - loss: 0.7719 - accuracy: 0.6986\n",
      "Epoch 00010: val_loss did not improve from 0.90969\n",
      "345/345 [==============================] - 10s 28ms/step - loss: 0.7716 - accuracy: 0.6986 - val_loss: 0.9949 - val_accuracy: 0.6327\n",
      "Epoch 11/50\n",
      "344/345 [============================>.] - ETA: 0s - loss: 0.7500 - accuracy: 0.7047\n",
      "Epoch 00011: val_loss improved from 0.90969 to 0.80550, saving model to Pro/My Drive/Colab Notebooks/FacialExpression_weights.hdf5\n",
      "345/345 [==============================] - 10s 30ms/step - loss: 0.7492 - accuracy: 0.7049 - val_loss: 0.8055 - val_accuracy: 0.7003\n",
      "Epoch 12/50\n",
      "345/345 [==============================] - ETA: 0s - loss: 0.7285 - accuracy: 0.7186\n",
      "Epoch 00012: val_loss did not improve from 0.80550\n",
      "345/345 [==============================] - 10s 28ms/step - loss: 0.7285 - accuracy: 0.7186 - val_loss: 1.2842 - val_accuracy: 0.4919\n",
      "Epoch 13/50\n",
      "344/345 [============================>.] - ETA: 0s - loss: 0.7146 - accuracy: 0.7245\n",
      "Epoch 00013: val_loss did not improve from 0.80550\n",
      "345/345 [==============================] - 10s 28ms/step - loss: 0.7150 - accuracy: 0.7244 - val_loss: 0.9032 - val_accuracy: 0.6572\n",
      "Epoch 14/50\n",
      "345/345 [==============================] - ETA: 0s - loss: 0.6926 - accuracy: 0.7308\n",
      "Epoch 00014: val_loss did not improve from 0.80550\n",
      "345/345 [==============================] - 10s 28ms/step - loss: 0.6926 - accuracy: 0.7308 - val_loss: 0.9786 - val_accuracy: 0.6230\n",
      "Epoch 15/50\n",
      "345/345 [==============================] - ETA: 0s - loss: 0.6813 - accuracy: 0.7354\n",
      "Epoch 00015: val_loss improved from 0.80550 to 0.78361, saving model to Pro/My Drive/Colab Notebooks/FacialExpression_weights.hdf5\n",
      "345/345 [==============================] - 10s 30ms/step - loss: 0.6813 - accuracy: 0.7354 - val_loss: 0.7836 - val_accuracy: 0.6987\n",
      "Epoch 16/50\n",
      "345/345 [==============================] - ETA: 0s - loss: 0.6780 - accuracy: 0.7382\n",
      "Epoch 00016: val_loss improved from 0.78361 to 0.76869, saving model to Pro/My Drive/Colab Notebooks/FacialExpression_weights.hdf5\n",
      "345/345 [==============================] - 10s 29ms/step - loss: 0.6780 - accuracy: 0.7382 - val_loss: 0.7687 - val_accuracy: 0.7003\n",
      "Epoch 17/50\n",
      "344/345 [============================>.] - ETA: 0s - loss: 0.6500 - accuracy: 0.7497\n",
      "Epoch 00017: val_loss improved from 0.76869 to 0.76452, saving model to Pro/My Drive/Colab Notebooks/FacialExpression_weights.hdf5\n",
      "345/345 [==============================] - 10s 29ms/step - loss: 0.6503 - accuracy: 0.7496 - val_loss: 0.7645 - val_accuracy: 0.7191\n",
      "Epoch 18/50\n",
      "345/345 [==============================] - ETA: 0s - loss: 0.6402 - accuracy: 0.7525\n",
      "Epoch 00018: val_loss did not improve from 0.76452\n",
      "345/345 [==============================] - 10s 29ms/step - loss: 0.6402 - accuracy: 0.7525 - val_loss: 0.7852 - val_accuracy: 0.6946\n",
      "Epoch 19/50\n",
      "344/345 [============================>.] - ETA: 0s - loss: 0.6317 - accuracy: 0.7564\n",
      "Epoch 00019: val_loss improved from 0.76452 to 0.71801, saving model to Pro/My Drive/Colab Notebooks/FacialExpression_weights.hdf5\n",
      "345/345 [==============================] - 10s 30ms/step - loss: 0.6323 - accuracy: 0.7563 - val_loss: 0.7180 - val_accuracy: 0.7288\n",
      "Epoch 20/50\n",
      "345/345 [==============================] - ETA: 0s - loss: 0.6263 - accuracy: 0.7586\n",
      "Epoch 00020: val_loss did not improve from 0.71801\n",
      "345/345 [==============================] - 10s 28ms/step - loss: 0.6263 - accuracy: 0.7586 - val_loss: 0.7696 - val_accuracy: 0.7068\n",
      "Epoch 21/50\n",
      "344/345 [============================>.] - ETA: 0s - loss: 0.6113 - accuracy: 0.7670\n",
      "Epoch 00021: val_loss did not improve from 0.71801\n",
      "345/345 [==============================] - 10s 28ms/step - loss: 0.6115 - accuracy: 0.7670 - val_loss: 0.7968 - val_accuracy: 0.7044\n",
      "Epoch 22/50\n",
      "345/345 [==============================] - ETA: 0s - loss: 0.5948 - accuracy: 0.7726\n",
      "Epoch 00022: val_loss improved from 0.71801 to 0.70143, saving model to Pro/My Drive/Colab Notebooks/FacialExpression_weights.hdf5\n",
      "345/345 [==============================] - 10s 30ms/step - loss: 0.5948 - accuracy: 0.7726 - val_loss: 0.7014 - val_accuracy: 0.7321\n",
      "Epoch 23/50\n",
      "344/345 [============================>.] - ETA: 0s - loss: 0.5847 - accuracy: 0.7788\n",
      "Epoch 00023: val_loss did not improve from 0.70143\n",
      "345/345 [==============================] - 10s 28ms/step - loss: 0.5849 - accuracy: 0.7787 - val_loss: 0.7146 - val_accuracy: 0.7288\n",
      "Epoch 24/50\n",
      "344/345 [============================>.] - ETA: 0s - loss: 0.5740 - accuracy: 0.7821\n",
      "Epoch 00024: val_loss improved from 0.70143 to 0.64024, saving model to Pro/My Drive/Colab Notebooks/FacialExpression_weights.hdf5\n",
      "345/345 [==============================] - 10s 30ms/step - loss: 0.5736 - accuracy: 0.7822 - val_loss: 0.6402 - val_accuracy: 0.7614\n",
      "Epoch 25/50\n",
      "344/345 [============================>.] - ETA: 0s - loss: 0.5728 - accuracy: 0.7786\n",
      "Epoch 00025: val_loss did not improve from 0.64024\n",
      "345/345 [==============================] - 10s 28ms/step - loss: 0.5727 - accuracy: 0.7785 - val_loss: 0.7297 - val_accuracy: 0.7256\n",
      "Epoch 26/50\n",
      "345/345 [==============================] - ETA: 0s - loss: 0.5660 - accuracy: 0.7819\n",
      "Epoch 00026: val_loss did not improve from 0.64024\n",
      "345/345 [==============================] - 10s 28ms/step - loss: 0.5660 - accuracy: 0.7819 - val_loss: 0.7594 - val_accuracy: 0.7109\n",
      "Epoch 27/50\n",
      "345/345 [==============================] - ETA: 0s - loss: 0.5471 - accuracy: 0.7868\n",
      "Epoch 00027: val_loss did not improve from 0.64024\n",
      "345/345 [==============================] - 9s 28ms/step - loss: 0.5471 - accuracy: 0.7868 - val_loss: 0.7631 - val_accuracy: 0.7166\n",
      "Epoch 28/50\n",
      "344/345 [============================>.] - ETA: 0s - loss: 0.5402 - accuracy: 0.7916\n",
      "Epoch 00028: val_loss did not improve from 0.64024\n",
      "345/345 [==============================] - 9s 28ms/step - loss: 0.5401 - accuracy: 0.7916 - val_loss: 0.7458 - val_accuracy: 0.7117\n",
      "Epoch 29/50\n",
      "344/345 [============================>.] - ETA: 0s - loss: 0.5309 - accuracy: 0.7961\n",
      "Epoch 00029: val_loss did not improve from 0.64024\n",
      "345/345 [==============================] - 10s 28ms/step - loss: 0.5310 - accuracy: 0.7959 - val_loss: 0.6960 - val_accuracy: 0.7353\n",
      "Epoch 30/50\n",
      "345/345 [==============================] - ETA: 0s - loss: 0.5302 - accuracy: 0.7954\n",
      "Epoch 00030: val_loss did not improve from 0.64024\n",
      "345/345 [==============================] - 10s 28ms/step - loss: 0.5302 - accuracy: 0.7954 - val_loss: 0.8163 - val_accuracy: 0.6938\n",
      "Epoch 31/50\n",
      "345/345 [==============================] - ETA: 0s - loss: 0.5176 - accuracy: 0.7995\n",
      "Epoch 00031: val_loss did not improve from 0.64024\n",
      "345/345 [==============================] - 9s 27ms/step - loss: 0.5176 - accuracy: 0.7995 - val_loss: 0.9110 - val_accuracy: 0.6425\n",
      "Epoch 32/50\n",
      "344/345 [============================>.] - ETA: 0s - loss: 0.5069 - accuracy: 0.8046\n",
      "Epoch 00032: val_loss did not improve from 0.64024\n",
      "345/345 [==============================] - 9s 27ms/step - loss: 0.5070 - accuracy: 0.8047 - val_loss: 0.7225 - val_accuracy: 0.7394\n",
      "Epoch 33/50\n",
      "344/345 [============================>.] - ETA: 0s - loss: 0.5075 - accuracy: 0.8043\n",
      "Epoch 00033: val_loss did not improve from 0.64024\n",
      "345/345 [==============================] - 9s 27ms/step - loss: 0.5072 - accuracy: 0.8046 - val_loss: 0.6815 - val_accuracy: 0.7524\n",
      "Epoch 34/50\n",
      "344/345 [============================>.] - ETA: 0s - loss: 0.4890 - accuracy: 0.8130\n",
      "Epoch 00034: val_loss did not improve from 0.64024\n",
      "345/345 [==============================] - 9s 27ms/step - loss: 0.4894 - accuracy: 0.8130 - val_loss: 0.7421 - val_accuracy: 0.7394\n",
      "Epoch 35/50\n",
      "344/345 [============================>.] - ETA: 0s - loss: 0.4813 - accuracy: 0.8147\n",
      "Epoch 00035: val_loss did not improve from 0.64024\n",
      "345/345 [==============================] - 9s 27ms/step - loss: 0.4814 - accuracy: 0.8148 - val_loss: 0.7855 - val_accuracy: 0.7036\n",
      "Epoch 36/50\n",
      "345/345 [==============================] - ETA: 0s - loss: 0.4713 - accuracy: 0.8202\n",
      "Epoch 00036: val_loss did not improve from 0.64024\n",
      "345/345 [==============================] - 9s 27ms/step - loss: 0.4713 - accuracy: 0.8202 - val_loss: 0.7724 - val_accuracy: 0.7313\n",
      "Epoch 37/50\n",
      "345/345 [==============================] - ETA: 0s - loss: 0.4707 - accuracy: 0.8195\n",
      "Epoch 00037: val_loss did not improve from 0.64024\n",
      "345/345 [==============================] - 9s 27ms/step - loss: 0.4707 - accuracy: 0.8195 - val_loss: 1.0356 - val_accuracy: 0.6368\n",
      "Epoch 38/50\n",
      "345/345 [==============================] - ETA: 0s - loss: 0.4652 - accuracy: 0.8212\n",
      "Epoch 00038: val_loss did not improve from 0.64024\n",
      "345/345 [==============================] - 9s 27ms/step - loss: 0.4652 - accuracy: 0.8212 - val_loss: 0.8999 - val_accuracy: 0.6987\n",
      "Epoch 39/50\n",
      "345/345 [==============================] - ETA: 0s - loss: 0.4470 - accuracy: 0.8292\n",
      "Epoch 00039: val_loss did not improve from 0.64024\n",
      "345/345 [==============================] - 9s 27ms/step - loss: 0.4470 - accuracy: 0.8292 - val_loss: 1.0668 - val_accuracy: 0.5928\n",
      "Epoch 40/50\n",
      "344/345 [============================>.] - ETA: 0s - loss: 0.4512 - accuracy: 0.8265\n",
      "Epoch 00040: val_loss did not improve from 0.64024\n",
      "345/345 [==============================] - 9s 27ms/step - loss: 0.4512 - accuracy: 0.8265 - val_loss: 0.6629 - val_accuracy: 0.7720\n",
      "Epoch 41/50\n",
      "345/345 [==============================] - ETA: 0s - loss: 0.4404 - accuracy: 0.8307\n",
      "Epoch 00041: val_loss did not improve from 0.64024\n",
      "345/345 [==============================] - 9s 27ms/step - loss: 0.4404 - accuracy: 0.8307 - val_loss: 0.7010 - val_accuracy: 0.7704\n",
      "Epoch 42/50\n",
      "344/345 [============================>.] - ETA: 0s - loss: 0.4360 - accuracy: 0.8341\n",
      "Epoch 00042: val_loss did not improve from 0.64024\n",
      "345/345 [==============================] - 9s 27ms/step - loss: 0.4358 - accuracy: 0.8342 - val_loss: 0.7387 - val_accuracy: 0.7370\n",
      "Epoch 43/50\n",
      "345/345 [==============================] - ETA: 0s - loss: 0.4334 - accuracy: 0.8337\n",
      "Epoch 00043: val_loss did not improve from 0.64024\n",
      "345/345 [==============================] - 9s 27ms/step - loss: 0.4334 - accuracy: 0.8337 - val_loss: 0.8273 - val_accuracy: 0.7174\n",
      "Epoch 44/50\n",
      "344/345 [============================>.] - ETA: 0s - loss: 0.4197 - accuracy: 0.8408\n",
      "Epoch 00044: val_loss did not improve from 0.64024\n",
      "345/345 [==============================] - 9s 27ms/step - loss: 0.4197 - accuracy: 0.8408 - val_loss: 0.7372 - val_accuracy: 0.7410\n",
      "Epoch 00044: early stopping\n"
     ]
    }
   ],
   "source": [
    "history = model_emotion.fit(train_datagen.flow(X_train, y_train, batch_size=64),\n",
    "\tvalidation_data=(X_val, y_val), steps_per_epoch=len(X_train) // 64,\n",
    "\tepochs= 50, callbacks=[checkpointer, earlystopping])"
   ]
  },
  {
   "cell_type": "code",
   "execution_count": 38,
   "metadata": {
    "colab": {},
    "colab_type": "code",
    "executionInfo": {
     "elapsed": 382313,
     "status": "ok",
     "timestamp": 1597054535652,
     "user": {
      "displayName": "Prabor Mukherjee",
      "photoUrl": "https://lh3.googleusercontent.com/a-/AOh14GgEjkQ5vy7fT2x3s2YWntD0EF78ID9vVZSBwd-t=s64",
      "userId": "10603689785655987874"
     },
     "user_tz": -330
    },
    "id": "He3nlTqjyerr"
   },
   "outputs": [],
   "source": [
    "# saving the model architecture to json file for future use\n",
    "\n",
    "model_json = model_emotion.to_json()\n",
    "with open(\"models/Emotion-model.json\",\"w\") as json_file:\n",
    "  json_file.write(model_json)"
   ]
  },
  {
   "cell_type": "markdown",
   "metadata": {
    "colab_type": "text",
    "id": "c-4O9nUGyer2"
   },
   "source": [
    "# Part #7: ASSESS THE PERFORMANCE OF TRAINED FACIAL EXPRESSION CLASSIFIER MODEL"
   ]
  },
  {
   "cell_type": "code",
   "execution_count": 39,
   "metadata": {
    "colab": {},
    "colab_type": "code",
    "executionInfo": {
     "elapsed": 383244,
     "status": "ok",
     "timestamp": 1597054541477,
     "user": {
      "displayName": "Prabor Mukherjee",
      "photoUrl": "https://lh3.googleusercontent.com/a-/AOh14GgEjkQ5vy7fT2x3s2YWntD0EF78ID9vVZSBwd-t=s64",
      "userId": "10603689785655987874"
     },
     "user_tz": -330
    },
    "id": "Ssl6xziVyer3"
   },
   "outputs": [],
   "source": [
    "with open('Emotion-model.json', 'r') as json_file:\n",
    "    json_savedModel= json_file.read()\n",
    "    \n",
    "# load the model architecture \n",
    "model_emotion = tf.keras.models.model_from_json(json_savedModel)\n",
    "model_emotion.load_weights('models/FacialExpression_weights.hdf5')\n",
    "model_emotion.compile(optimizer = \"Adam\", loss = \"categorical_crossentropy\", metrics = [\"accuracy\"])"
   ]
  },
  {
   "cell_type": "code",
   "execution_count": 40,
   "metadata": {
    "colab": {
     "base_uri": "https://localhost:8080/",
     "height": 50
    },
    "colab_type": "code",
    "executionInfo": {
     "elapsed": 379963,
     "status": "ok",
     "timestamp": 1597054541487,
     "user": {
      "displayName": "Prabor Mukherjee",
      "photoUrl": "https://lh3.googleusercontent.com/a-/AOh14GgEjkQ5vy7fT2x3s2YWntD0EF78ID9vVZSBwd-t=s64",
      "userId": "10603689785655987874"
     },
     "user_tz": -330
    },
    "id": "IBtN2kiWyer6",
    "outputId": "621c8aed-877f-42e2-c661-1cc0aaf81e60"
   },
   "outputs": [
    {
     "name": "stdout",
     "output_type": "stream",
     "text": [
      "39/39 [==============================] - 0s 7ms/step - loss: 0.6664 - accuracy: 0.7339\n",
      "Test Accuracy: 0.7339300513267517\n"
     ]
    }
   ],
   "source": [
    "score = model_emotion.evaluate(X_Test, y_Test)\n",
    "print('Test Accuracy: {}'.format(score[1]))"
   ]
  },
  {
   "cell_type": "code",
   "execution_count": 41,
   "metadata": {
    "colab": {
     "base_uri": "https://localhost:8080/",
     "height": 34
    },
    "colab_type": "code",
    "executionInfo": {
     "elapsed": 376478,
     "status": "ok",
     "timestamp": 1597054541489,
     "user": {
      "displayName": "Prabor Mukherjee",
      "photoUrl": "https://lh3.googleusercontent.com/a-/AOh14GgEjkQ5vy7fT2x3s2YWntD0EF78ID9vVZSBwd-t=s64",
      "userId": "10603689785655987874"
     },
     "user_tz": -330
    },
    "id": "ttMnnx64yer_",
    "outputId": "120693d4-950a-400e-db0f-bd4dda011b5d"
   },
   "outputs": [
    {
     "data": {
      "text/plain": [
       "dict_keys(['loss', 'accuracy', 'val_loss', 'val_accuracy'])"
      ]
     },
     "execution_count": 41,
     "metadata": {
      "tags": []
     },
     "output_type": "execute_result"
    }
   ],
   "source": [
    "history.history.keys()"
   ]
  },
  {
   "cell_type": "code",
   "execution_count": 42,
   "metadata": {
    "colab": {},
    "colab_type": "code",
    "executionInfo": {
     "elapsed": 374261,
     "status": "ok",
     "timestamp": 1597054541492,
     "user": {
      "displayName": "Prabor Mukherjee",
      "photoUrl": "https://lh3.googleusercontent.com/a-/AOh14GgEjkQ5vy7fT2x3s2YWntD0EF78ID9vVZSBwd-t=s64",
      "userId": "10603689785655987874"
     },
     "user_tz": -330
    },
    "id": "Rldi-ZXZyesB"
   },
   "outputs": [],
   "source": [
    "accuracy = history.history['accuracy']\n",
    "val_accuracy = history.history['val_accuracy']\n",
    "loss = history.history['loss']\n",
    "val_loss = history.history['val_loss']"
   ]
  },
  {
   "cell_type": "code",
   "execution_count": 43,
   "metadata": {
    "colab": {
     "base_uri": "https://localhost:8080/",
     "height": 298
    },
    "colab_type": "code",
    "executionInfo": {
     "elapsed": 372469,
     "status": "ok",
     "timestamp": 1597054541494,
     "user": {
      "displayName": "Prabor Mukherjee",
      "photoUrl": "https://lh3.googleusercontent.com/a-/AOh14GgEjkQ5vy7fT2x3s2YWntD0EF78ID9vVZSBwd-t=s64",
      "userId": "10603689785655987874"
     },
     "user_tz": -330
    },
    "id": "jlCitd7iyesD",
    "outputId": "721c843d-83fb-4b31-986e-01a8920b91ff"
   },
   "outputs": [
    {
     "data": {
      "text/plain": [
       "<matplotlib.legend.Legend at 0x7f929c23acc0>"
      ]
     },
     "execution_count": 43,
     "metadata": {
      "tags": []
     },
     "output_type": "execute_result"
    },
    {
     "data": {
      "image/png": "[encoded data removed]",
      "text/plain": [
       "<Figure size 432x288 with 1 Axes>"
      ]
     },
     "metadata": {
      "needs_background": "light",
      "tags": []
     },
     "output_type": "display_data"
    }
   ],
   "source": [
    "epochs = range(len(accuracy))\n",
    "\n",
    "plt.plot(epochs, accuracy, 'bo', label='Training Accuracy')\n",
    "plt.plot(epochs, val_accuracy, 'b', label='Validation Accuracy')\n",
    "plt.title('Training and Validation Accuracy')\n",
    "plt.legend()"
   ]
  },
  {
   "cell_type": "code",
   "execution_count": 44,
   "metadata": {
    "colab": {
     "base_uri": "https://localhost:8080/",
     "height": 298
    },
    "colab_type": "code",
    "executionInfo": {
     "elapsed": 367350,
     "status": "ok",
     "timestamp": 1597054541496,
     "user": {
      "displayName": "Prabor Mukherjee",
      "photoUrl": "https://lh3.googleusercontent.com/a-/AOh14GgEjkQ5vy7fT2x3s2YWntD0EF78ID9vVZSBwd-t=s64",
      "userId": "10603689785655987874"
     },
     "user_tz": -330
    },
    "id": "NfnSKN7fyesF",
    "outputId": "d2c8b13a-f5de-4f62-cf26-3209d9023bde"
   },
   "outputs": [
    {
     "data": {
      "text/plain": [
       "<matplotlib.legend.Legend at 0x7f929c151e10>"
      ]
     },
     "execution_count": 44,
     "metadata": {
      "tags": []
     },
     "output_type": "execute_result"
    },
    {
     "data": {
      "image/png": "[encoded data removed]",
      "text/plain": [
       "<Figure size 432x288 with 1 Axes>"
      ]
     },
     "metadata": {
      "needs_background": "light",
      "tags": []
     },
     "output_type": "display_data"
    }
   ],
   "source": [
    "plt.plot(epochs, loss, 'ro', label='Training loss')\n",
    "plt.plot(epochs, val_loss, 'r', label='Validation loss')\n",
    "plt.title('Training and Validation loss')\n",
    "plt.legend()"
   ]
  },
  {
   "cell_type": "code",
   "execution_count": 45,
   "metadata": {
    "colab": {},
    "colab_type": "code",
    "executionInfo": {
     "elapsed": 363497,
     "status": "ok",
     "timestamp": 1597054541498,
     "user": {
      "displayName": "Prabor Mukherjee",
      "photoUrl": "https://lh3.googleusercontent.com/a-/AOh14GgEjkQ5vy7fT2x3s2YWntD0EF78ID9vVZSBwd-t=s64",
      "userId": "10603689785655987874"
     },
     "user_tz": -330
    },
    "id": "1f8F1w6FyesI"
   },
   "outputs": [],
   "source": [
    "# predicted_classes = model.predict_classes(X_test)\n",
    "predicted_classes = np.argmax(model_emotion.predict(X_Test), axis=-1)\n",
    "y_true = np.argmax(y_Test, axis=-1)"
   ]
  },
  {
   "cell_type": "code",
   "execution_count": 46,
   "metadata": {
    "colab": {
     "base_uri": "https://localhost:8080/",
     "height": 34
    },
    "colab_type": "code",
    "executionInfo": {
     "elapsed": 361691,
     "status": "ok",
     "timestamp": 1597054541500,
     "user": {
      "displayName": "Prabor Mukherjee",
      "photoUrl": "https://lh3.googleusercontent.com/a-/AOh14GgEjkQ5vy7fT2x3s2YWntD0EF78ID9vVZSBwd-t=s64",
      "userId": "10603689785655987874"
     },
     "user_tz": -330
    },
    "id": "lJSfgbGJyesJ",
    "outputId": "f8a27581-e384-41f4-9a45-303ac111d76c"
   },
   "outputs": [
    {
     "data": {
      "text/plain": [
       "(1229,)"
      ]
     },
     "execution_count": 46,
     "metadata": {
      "tags": []
     },
     "output_type": "execute_result"
    }
   ],
   "source": [
    "y_true.shape"
   ]
  },
  {
   "cell_type": "code",
   "execution_count": 47,
   "metadata": {
    "colab": {
     "base_uri": "https://localhost:8080/",
     "height": 609
    },
    "colab_type": "code",
    "executionInfo": {
     "elapsed": 359955,
     "status": "ok",
     "timestamp": 1597054541503,
     "user": {
      "displayName": "Prabor Mukherjee",
      "photoUrl": "https://lh3.googleusercontent.com/a-/AOh14GgEjkQ5vy7fT2x3s2YWntD0EF78ID9vVZSBwd-t=s64",
      "userId": "10603689785655987874"
     },
     "user_tz": -330
    },
    "id": "LF9WeM5jyesL",
    "outputId": "c6049cf6-ad33-4425-bdc0-f0283cd31480"
   },
   "outputs": [
    {
     "data": {
      "text/plain": [
       "<matplotlib.axes._subplots.AxesSubplot at 0x7f929c072e80>"
      ]
     },
     "execution_count": 47,
     "metadata": {
      "tags": []
     },
     "output_type": "execute_result"
    },
    {
     "data": {
      "image/png": "[encoded data removed]",
      "text/plain": [
       "<Figure size 720x720 with 1 Axes>"
      ]
     },
     "metadata": {
      "needs_background": "light",
      "tags": []
     },
     "output_type": "display_data"
    }
   ],
   "source": [
    "from sklearn.metrics import confusion_matrix\n",
    "cm = confusion_matrix(y_true, predicted_classes)\n",
    "plt.figure(figsize = (10, 10))\n",
    "sns.heatmap(cm, annot = True, cbar = False)"
   ]
  },
  {
   "cell_type": "code",
   "execution_count": 48,
   "metadata": {
    "colab": {
     "base_uri": "https://localhost:8080/",
     "height": 1000
    },
    "colab_type": "code",
    "executionInfo": {
     "elapsed": 357628,
     "status": "ok",
     "timestamp": 1597054543157,
     "user": {
      "displayName": "Prabor Mukherjee",
      "photoUrl": "https://lh3.googleusercontent.com/a-/AOh14GgEjkQ5vy7fT2x3s2YWntD0EF78ID9vVZSBwd-t=s64",
      "userId": "10603689785655987874"
     },
     "user_tz": -330
    },
    "id": "Zwu0_tbbyesP",
    "outputId": "693293b8-21dd-4540-ce43-f449004cfaec"
   },
   "outputs": [
    {
     "data": {
      "image/png": "[encoded data removed]",
      "text/plain": [
       "<Figure size 1728x1728 with 25 Axes>"
      ]
     },
     "metadata": {
      "needs_background": "light",
      "tags": []
     },
     "output_type": "display_data"
    }
   ],
   "source": [
    "L = 5\n",
    "W = 5\n",
    "\n",
    "fig, axes = plt.subplots(L, W, figsize = (24, 24))\n",
    "axes = axes.ravel()\n",
    "\n",
    "for i in np.arange(0, L*W):\n",
    "    axes[i].imshow(X_Test[i].reshape(48,48), cmap = 'gray')\n",
    "    axes[i].set_title('Prediction = {}\\n True = {}'.format(label_to_text[predicted_classes[i]], label_to_text[y_true[i]]))\n",
    "    axes[i].axis('off')\n",
    "\n",
    "plt.subplots_adjust(wspace = 1)   "
   ]
  },
  {
   "cell_type": "code",
   "execution_count": 49,
   "metadata": {
    "colab": {
     "base_uri": "https://localhost:8080/",
     "height": 218
    },
    "colab_type": "code",
    "executionInfo": {
     "elapsed": 352095,
     "status": "ok",
     "timestamp": 1597054543159,
     "user": {
      "displayName": "Prabor Mukherjee",
      "photoUrl": "https://lh3.googleusercontent.com/a-/AOh14GgEjkQ5vy7fT2x3s2YWntD0EF78ID9vVZSBwd-t=s64",
      "userId": "10603689785655987874"
     },
     "user_tz": -330
    },
    "id": "So0azQVPyesR",
    "outputId": "8cdb0b37-ae49-4f03-a582-c9c6cbd59512"
   },
   "outputs": [
    {
     "name": "stdout",
     "output_type": "stream",
     "text": [
      "              precision    recall  f1-score   support\n",
      "\n",
      "           0       0.59      0.58      0.58       253\n",
      "           1       0.69      0.38      0.49        29\n",
      "           2       0.60      0.73      0.66       291\n",
      "           3       0.87      0.82      0.84       455\n",
      "           4       0.88      0.79      0.83       201\n",
      "\n",
      "    accuracy                           0.73      1229\n",
      "   macro avg       0.73      0.66      0.68      1229\n",
      "weighted avg       0.75      0.73      0.74      1229\n",
      "\n"
     ]
    }
   ],
   "source": [
    "from sklearn.metrics import classification_report\n",
    "print(classification_report(y_true, predicted_classes))"
   ]
  }
 ],
 "metadata": {
  "accelerator": "GPU",
  "colab": {
   "collapsed_sections": [],
   "name": "Facial_Expression_Classification.ipynb",
   "provenance": []
  },
  "kernelspec": {
   "display_name": "Python 3",
   "language": "python",
   "name": "python3"
  },
  "language_info": {
   "codemirror_mode": {
    "name": "ipython",
    "version": 3
   },
   "file_extension": ".py",
   "mimetype": "text/x-python",
   "name": "python",
   "nbconvert_exporter": "python",
   "pygments_lexer": "ipython3",
   "version": "3.7.4"
  }
 },
 "nbformat": 4,
 "nbformat_minor": 1
}
